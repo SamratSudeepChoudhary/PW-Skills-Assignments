{
  "nbformat": 4,
  "nbformat_minor": 0,
  "metadata": {
    "colab": {
      "provenance": []
    },
    "kernelspec": {
      "name": "python3",
      "display_name": "Python 3"
    },
    "language_info": {
      "name": "python"
    }
  },
  "cells": [
    {
      "cell_type": "code",
      "execution_count": 1,
      "metadata": {
        "id": "_pY9NftKTUzd"
      },
      "outputs": [],
      "source": [
        "from IPython.core.interactiveshell import InteractiveShell\n",
        "InteractiveShell.ast_node_interactivity = \"all\""
      ]
    },
    {
      "cell_type": "markdown",
      "source": [
        "Q1. What is multiprocessing in Python? Why is it useful?\n",
        "\n",
        "Multiprocessing in Python refers to the capability of executing multiple processes concurrently in order to achieve parallelism. It allows the execution of multiple tasks simultaneously, taking advantage of multiple CPU cores or processors. Each process has its own memory space, resources, and execution context.\n",
        "\n",
        "Multiprocessing is useful for computationally intensive tasks, such as data processing, scientific computations, simulations, and other CPU-bound operations. By distributing the workload among multiple processes, multiprocessing can significantly improve the performance and speed of the program."
      ],
      "metadata": {
        "id": "yXIkFUt7Tua4"
      }
    },
    {
      "cell_type": "markdown",
      "source": [
        "Q2. What are the differences between multiprocessing and multithreading?\n",
        "\n",
        "The main differences between multiprocessing and multithreading are as follows:\n",
        "\n",
        "Execution model: In multiprocessing, multiple processes are created, each with its own memory space and resources. These processes run independently and can execute in parallel on multiple CPU cores or processors. In multithreading, multiple threads are created within a single process, sharing the same memory space. These threads run concurrently, but typically on a single CPU core through time-slicing.\n",
        "\n",
        "Memory and resource isolation: Each process in multiprocessing has its own memory space and resources. This provides better isolation and protection, as one process cannot directly access or modify the memory of another process. In multithreading, threads share the same memory space and resources, which requires careful synchronization and can lead to issues like race conditions.\n",
        "\n",
        "Communication and data sharing: Processes in multiprocessing communicate with each other using mechanisms like inter-process communication (IPC), such as pipes, queues, and shared memory. Threads in multithreading communicate through shared data structures within the same memory space. However, data sharing between threads requires proper synchronization to avoid conflicts.\n",
        "\n",
        "Scalability: Multiprocessing can scale well with multiple CPU cores or processors, as each process can be executed in parallel. Multithreading, on the other hand, may not provide significant scalability on systems with a limited number of CPU cores, as threads are time-sliced and executed sequentially on a single core."
      ],
      "metadata": {
        "id": "y-ewBnijTY4P"
      }
    },
    {
      "cell_type": "markdown",
      "source": [
        "\n",
        "\n",
        "Q3. Write a Python code to create a process using the multiprocessing module."
      ],
      "metadata": {
        "id": "IiTAaEemTyej"
      }
    },
    {
      "cell_type": "code",
      "source": [
        "import multiprocessing\n",
        "\n",
        "def worker():\n",
        "    print(\"Worker process\")\n",
        "\n",
        "if __name__ == '__main__':\n",
        "    process = multiprocessing.Process(target=worker)\n",
        "    process.start()\n",
        "    process.join()\n"
      ],
      "metadata": {
        "colab": {
          "base_uri": "https://localhost:8080/"
        },
        "id": "nOe6d18-TZYN",
        "outputId": "177586cf-1e26-426d-9e54-5703fe067812"
      },
      "execution_count": 2,
      "outputs": [
        {
          "output_type": "stream",
          "name": "stdout",
          "text": [
            "Worker process\n"
          ]
        }
      ]
    },
    {
      "cell_type": "markdown",
      "source": [
        "Q4. What is a multiprocessing pool in Python? Why is it used?\n",
        "\n",
        "A multiprocessing pool in Python, specifically the multiprocessing.Pool class, provides a convenient way to create a pool of worker processes. It allows for parallel execution of tasks by distributing the workload among the available processes in the pool.\n",
        "\n",
        "The multiprocessing pool is used to simplify the management of processes and tasks. It abstracts away the details of process creation, synchronization, and communication. By utilizing a pool, you can easily submit tasks for parallel execution and retrieve their results."
      ],
      "metadata": {
        "id": "BA9Mu2O8Ti5C"
      }
    },
    {
      "cell_type": "markdown",
      "source": [
        "Q5. How can we create a pool of worker processes in Python using the multiprocessing module?"
      ],
      "metadata": {
        "id": "KiUJ1e8GTmRv"
      }
    },
    {
      "cell_type": "code",
      "source": [
        "import multiprocessing\n",
        "\n",
        "def worker(num):\n",
        "    result = num * num\n",
        "    return result\n",
        "\n",
        "if __name__ == '__main__':\n",
        "    with multiprocessing.Pool() as pool:\n",
        "        numbers = [1, 2, 3, 4, 5]\n",
        "        results = pool.map(worker, numbers)\n",
        "        print(results)\n"
      ],
      "metadata": {
        "colab": {
          "base_uri": "https://localhost:8080/"
        },
        "id": "MrWpvNP-TfXH",
        "outputId": "d9f9a3f2-d26b-4fd4-d7a5-0c67369013f6"
      },
      "execution_count": 3,
      "outputs": [
        {
          "output_type": "stream",
          "name": "stdout",
          "text": [
            "[1, 4, 9, 16, 25]\n"
          ]
        }
      ]
    },
    {
      "cell_type": "markdown",
      "source": [
        "Q6. Write a Python program to create 4 processes, each process should print a different number using the multiprocessing module in Python."
      ],
      "metadata": {
        "id": "YU7-wl7dT5sk"
      }
    },
    {
      "cell_type": "code",
      "source": [
        "import multiprocessing\n",
        "\n",
        "def print_number(num):\n",
        "    print(f\"Process ID: {multiprocessing.current_process().pid}, Number: {num}\")\n",
        "\n",
        "if __name__ == '__main__':\n",
        "    processes = []\n",
        "    numbers = [1, 2, 3, 4]\n",
        "\n",
        "    for num in numbers:\n",
        "        process = multiprocessing.Process(target=print_number, args=(num,))\n",
        "        processes.append(process)\n",
        "        process.start()\n",
        "\n",
        "    for process in processes:\n",
        "        process.join()\n"
      ],
      "metadata": {
        "colab": {
          "base_uri": "https://localhost:8080/"
        },
        "id": "EUApruKfTmlC",
        "outputId": "623be313-a2dc-4d73-ee55-2ce76e118b8b"
      },
      "execution_count": 4,
      "outputs": [
        {
          "output_type": "stream",
          "name": "stdout",
          "text": [
            "Process ID: 1592, Number: 1Process ID: 1597, Number: 3\n",
            "\n",
            "Process ID: 1595, Number: 2\n",
            "Process ID: 1603, Number: 4\n"
          ]
        }
      ]
    },
    {
      "cell_type": "code",
      "source": [],
      "metadata": {
        "id": "xHQdGmT5T8Ty"
      },
      "execution_count": null,
      "outputs": []
    }
  ]
}