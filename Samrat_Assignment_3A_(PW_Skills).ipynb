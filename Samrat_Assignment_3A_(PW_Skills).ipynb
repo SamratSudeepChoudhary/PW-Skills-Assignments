{
  "nbformat": 4,
  "nbformat_minor": 0,
  "metadata": {
    "colab": {
      "provenance": []
    },
    "kernelspec": {
      "name": "python3",
      "display_name": "Python 3"
    },
    "language_info": {
      "name": "python"
    }
  },
  "cells": [
    {
      "cell_type": "code",
      "execution_count": 1,
      "metadata": {
        "id": "lE2EAG5IwLQS"
      },
      "outputs": [],
      "source": [
        "from IPython.core.interactiveshell import InteractiveShell\n",
        "InteractiveShell.ast_node_interactivity = \"all\""
      ]
    },
    {
      "cell_type": "markdown",
      "source": [
        "Q1. Which keyword is used to create a function? Create a function to return a list of odd numbers in the\n",
        "range of 1 to 25."
      ],
      "metadata": {
        "id": "0h9HzTo1wliD"
      }
    },
    {
      "cell_type": "markdown",
      "source": [
        "The keyword used to create a function in Python is def."
      ],
      "metadata": {
        "id": "KuE6OKmCw2dP"
      }
    },
    {
      "cell_type": "code",
      "source": [
        "def get_odd_numbers():\n",
        "    odd_numbers = []\n",
        "    for num in range(1, 26):\n",
        "        if num % 2 != 0:\n",
        "            odd_numbers.append(num)\n",
        "    return odd_numbers"
      ],
      "metadata": {
        "id": "cQ-aqhnKwl7W"
      },
      "execution_count": 2,
      "outputs": []
    },
    {
      "cell_type": "code",
      "source": [
        "result = get_odd_numbers()\n",
        "\n",
        "print(result)"
      ],
      "metadata": {
        "colab": {
          "base_uri": "https://localhost:8080/"
        },
        "id": "w7DQbwvIw23F",
        "outputId": "226d8fc4-0f94-4c37-cf16-754ccc9d8f34"
      },
      "execution_count": 4,
      "outputs": [
        {
          "output_type": "stream",
          "name": "stdout",
          "text": [
            "[1, 3, 5, 7, 9, 11, 13, 15, 17, 19, 21, 23, 25]\n"
          ]
        }
      ]
    },
    {
      "cell_type": "markdown",
      "source": [
        "Q2. Why *args and **kwargs is used in some functions? Create a function each for *args and **kwargs\n",
        "to demonstrate their use."
      ],
      "metadata": {
        "id": "GJEFZByiyS01"
      }
    },
    {
      "cell_type": "markdown",
      "source": [
        "They allow flexibility in the number of arguments that can be passed to a function. It is useful when the exact number of arguments is unknown or can vary."
      ],
      "metadata": {
        "id": "6u5qaopex21J"
      }
    },
    {
      "cell_type": "code",
      "source": [
        "def arbitrary_arguments(*args):\n",
        "    for arg in args:\n",
        "        print(arg)\n",
        "\n",
        "arbitrary_arguments('Hello', 'World', 123)"
      ],
      "metadata": {
        "colab": {
          "base_uri": "https://localhost:8080/"
        },
        "id": "yugAVlgQxDwh",
        "outputId": "87f95a10-674e-4c04-dc01-43f7deb40a6f"
      },
      "execution_count": 6,
      "outputs": [
        {
          "output_type": "stream",
          "name": "stdout",
          "text": [
            "Hello\n",
            "World\n",
            "123\n"
          ]
        }
      ]
    },
    {
      "cell_type": "code",
      "source": [
        "def arbitrary_keyword_arguments(**kwargs):\n",
        "    for key, value in kwargs.items():\n",
        "        print(key, value)\n",
        "\n",
        "arbitrary_keyword_arguments(name='John', age=25, city='New York')"
      ],
      "metadata": {
        "colab": {
          "base_uri": "https://localhost:8080/"
        },
        "id": "y-qA-LHWyVQZ",
        "outputId": "59bba55f-5e97-4164-f590-ce1dd6afc4d2"
      },
      "execution_count": 7,
      "outputs": [
        {
          "output_type": "stream",
          "name": "stdout",
          "text": [
            "name John\n",
            "age 25\n",
            "city New York\n"
          ]
        }
      ]
    },
    {
      "cell_type": "markdown",
      "source": [
        "Q3. What is an iterator in python? Name the method used to initialise the iterator object and the method\n",
        "used for iteration. Use these methods to print the first five elements of the given list [2, 4, 6, 8, 10, 12, 14,\n",
        "16, 18, 20]."
      ],
      "metadata": {
        "id": "XEzkiN-rzy1h"
      }
    },
    {
      "cell_type": "markdown",
      "source": [
        "\n",
        "In Python, an iterator is an object that allows iteration over a collection of elements. It provides a way to access the elements of a container one by one, without needing to know the underlying structure of the container.\n",
        "\n",
        "To initialize an iterator object, the iter() method is used. It takes an iterable object as an argument and returns an iterator object. The iterator object can then be used for iteration using the next() method."
      ],
      "metadata": {
        "id": "BsukoSXEzy81"
      }
    },
    {
      "cell_type": "code",
      "source": [
        "my_list = [2, 4, 6, 8, 10, 12, 14, 16, 18, 20]\n",
        "my_iterator = iter(my_list)\n",
        "\n",
        "# Iterating and printing the first five elements\n",
        "for _ in range(5):\n",
        "    element = next(my_iterator)\n",
        "    print(element)"
      ],
      "metadata": {
        "colab": {
          "base_uri": "https://localhost:8080/"
        },
        "id": "y-IZzq1kyfpJ",
        "outputId": "996028a5-6a6a-4223-c1a5-5af2fc1db146"
      },
      "execution_count": 9,
      "outputs": [
        {
          "output_type": "stream",
          "name": "stdout",
          "text": [
            "2\n",
            "4\n",
            "6\n",
            "8\n",
            "10\n"
          ]
        }
      ]
    },
    {
      "cell_type": "markdown",
      "source": [
        "Q4. What is a generator function in python? Why yield keyword is used? Give an example of a generator\n",
        "function."
      ],
      "metadata": {
        "id": "Jp03erlGzzAW"
      }
    },
    {
      "cell_type": "markdown",
      "source": [
        "In Python, a generator function is a special type of function that returns an iterator, which can be iterated over to generate a sequence of values. It uses the yield keyword instead of return to define the values to be generated.\n",
        "\n",
        "A generator function allows you to generate a series of values on the fly, without storing them all in memory at once. It produces values one at a time, and each time a value is generated, the state of the function is saved, allowing it to resume from where it left off when the next value is requested.\n",
        "\n",
        "The yield keyword is used in a generator function to specify the values to be yielded or returned. When the function encounters a yield statement, it temporarily suspends its execution, yields the specified value, and saves its state. The next time the generator is called, it resumes execution from where it left off and continues generating the next value."
      ],
      "metadata": {
        "id": "ULCgInN6NStY"
      }
    },
    {
      "cell_type": "code",
      "source": [
        "def generate_even_numbers(limit):\n",
        "    for num in range(limit):\n",
        "        if num % 2 == 0:\n",
        "            yield num\n",
        "\n",
        "# Using the generator function to generate and print even numbers\n",
        "even_generator = generate_even_numbers(10)\n",
        "for num in even_generator:\n",
        "    print(num)"
      ],
      "metadata": {
        "colab": {
          "base_uri": "https://localhost:8080/"
        },
        "id": "pcn26dBANR0U",
        "outputId": "800a3b5d-cf81-41a0-d162-6a9df9ebcc87"
      },
      "execution_count": 1,
      "outputs": [
        {
          "output_type": "stream",
          "name": "stdout",
          "text": [
            "0\n",
            "2\n",
            "4\n",
            "6\n",
            "8\n"
          ]
        }
      ]
    },
    {
      "cell_type": "markdown",
      "source": [
        "Q5. Create a generator function for prime numbers less than 1000. Use the next() method to print the\n",
        "first 20 prime numbers."
      ],
      "metadata": {
        "id": "krC8ORPYONc4"
      }
    },
    {
      "cell_type": "code",
      "source": [
        "def generate_primes():\n",
        "    primes = []\n",
        "    num = 2\n",
        "    while True:\n",
        "        if all(num % prime != 0 for prime in primes):\n",
        "            primes.append(num)\n",
        "            yield num\n",
        "        num += 1\n",
        "\n",
        "# Using the generator function to print the first 20 prime numbers\n",
        "prime_generator = generate_primes()\n",
        "for _ in range(20):\n",
        "    prime = next(prime_generator)\n",
        "    print(prime)"
      ],
      "metadata": {
        "colab": {
          "base_uri": "https://localhost:8080/"
        },
        "id": "UPKtE3EpN0EY",
        "outputId": "82bf4ec7-72b3-40a5-e41b-cc585f47845f"
      },
      "execution_count": 2,
      "outputs": [
        {
          "output_type": "stream",
          "name": "stdout",
          "text": [
            "2\n",
            "3\n",
            "5\n",
            "7\n",
            "11\n",
            "13\n",
            "17\n",
            "19\n",
            "23\n",
            "29\n",
            "31\n",
            "37\n",
            "41\n",
            "43\n",
            "47\n",
            "53\n",
            "59\n",
            "61\n",
            "67\n",
            "71\n"
          ]
        }
      ]
    },
    {
      "cell_type": "markdown",
      "source": [
        "Q6. Write a python program to print the first 10 Fibonacci numbers using a while loop."
      ],
      "metadata": {
        "id": "-bcKad_DOah8"
      }
    },
    {
      "cell_type": "code",
      "source": [
        "# Function to print the first 10 Fibonacci numbers\n",
        "def print_fibonacci():\n",
        "    num1, num2 = 0, 1\n",
        "    count = 0\n",
        "    while count < 10:\n",
        "        print(num1)\n",
        "        num1, num2 = num2, num1 + num2\n",
        "        count += 1\n",
        "\n",
        "# Call the function to print the Fibonacci numbers\n",
        "print_fibonacci()\n"
      ],
      "metadata": {
        "colab": {
          "base_uri": "https://localhost:8080/"
        },
        "id": "ShfnlYyxOaXC",
        "outputId": "115c0a5c-39ca-4786-be7e-4dd0d365b47f"
      },
      "execution_count": 4,
      "outputs": [
        {
          "output_type": "stream",
          "name": "stdout",
          "text": [
            "0\n",
            "1\n",
            "1\n",
            "2\n",
            "3\n",
            "5\n",
            "8\n",
            "13\n",
            "21\n",
            "34\n"
          ]
        }
      ]
    },
    {
      "cell_type": "markdown",
      "source": [
        "Q7. Write a List Comprehension to iterate through the given string: ‘pwskills’.\n",
        "Expected output: ['p', 'w', 's', 'k', 'i', 'l', 'l', 's']"
      ],
      "metadata": {
        "id": "r_-Z8NVwO13F"
      }
    },
    {
      "cell_type": "code",
      "source": [
        "string = 'pwskills'\n",
        "output = [char for char in string]\n",
        "\n",
        "print(output)"
      ],
      "metadata": {
        "colab": {
          "base_uri": "https://localhost:8080/"
        },
        "id": "wJjlR7kROPRI",
        "outputId": "108c10f0-8e49-4167-fd73-0dfcbb6de2ef"
      },
      "execution_count": 6,
      "outputs": [
        {
          "output_type": "stream",
          "name": "stdout",
          "text": [
            "['p', 'w', 's', 'k', 'i', 'l', 'l', 's']\n"
          ]
        }
      ]
    },
    {
      "cell_type": "markdown",
      "source": [
        "Q8. Write a python program to check whether a given number is Palindrome or not using a while loop."
      ],
      "metadata": {
        "id": "kjIcSM17PMEj"
      }
    },
    {
      "cell_type": "code",
      "source": [
        "def is_palindrome(number):\n",
        "    original_number = number\n",
        "    reverse_number = 0\n",
        "\n",
        "    while number > 0:\n",
        "        digit = number % 10\n",
        "        reverse_number = reverse_number * 10 + digit\n",
        "        number = number // 10\n",
        "\n",
        "    if original_number == reverse_number:\n",
        "        return True\n",
        "    else:\n",
        "        return False\n",
        "\n",
        "# Test the function with a sample number\n",
        "number = 12321\n",
        "if is_palindrome(number):\n",
        "    print(number, \"is a palindrome\")\n",
        "else:\n",
        "    print(number, \"is not a palindrome\")\n"
      ],
      "metadata": {
        "colab": {
          "base_uri": "https://localhost:8080/"
        },
        "id": "oRRixsPuPASJ",
        "outputId": "60210601-c588-41c1-d6bd-482aad2b8acf"
      },
      "execution_count": 8,
      "outputs": [
        {
          "output_type": "stream",
          "name": "stdout",
          "text": [
            "12321 is a palindrome\n"
          ]
        }
      ]
    },
    {
      "cell_type": "markdown",
      "source": [
        "Q9. Write a code to print odd numbers from 1 to 100 using list comprehension.\n",
        "Note: Use a list comprehension to create a list from 1 to 100 and use another List comprehension to filter\n",
        "out odd numbers."
      ],
      "metadata": {
        "id": "JSzsPX4yQGNR"
      }
    },
    {
      "cell_type": "code",
      "source": [
        "'''\n",
        "odd_numbers = [num for num in range(1, 101) if num % 2 != 0]\n",
        "print(odd_numbers)\n",
        "\n",
        "'''\n",
        "\n",
        "numbers = [num for num in range(1, 101)]\n",
        "odd_numbers = [num for num in numbers if num % 2 != 0]\n",
        "\n",
        "print(odd_numbers)"
      ],
      "metadata": {
        "colab": {
          "base_uri": "https://localhost:8080/"
        },
        "id": "ymXi7-5FPp5I",
        "outputId": "e5a92fb2-ce16-4288-db29-f1026c94844c"
      },
      "execution_count": 10,
      "outputs": [
        {
          "output_type": "stream",
          "name": "stdout",
          "text": [
            "[1, 3, 5, 7, 9, 11, 13, 15, 17, 19, 21, 23, 25, 27, 29, 31, 33, 35, 37, 39, 41, 43, 45, 47, 49, 51, 53, 55, 57, 59, 61, 63, 65, 67, 69, 71, 73, 75, 77, 79, 81, 83, 85, 87, 89, 91, 93, 95, 97, 99]\n"
          ]
        }
      ]
    },
    {
      "cell_type": "code",
      "source": [],
      "metadata": {
        "id": "hg8qCHlYQnbB"
      },
      "execution_count": null,
      "outputs": []
    }
  ]
}