{
  "nbformat": 4,
  "nbformat_minor": 0,
  "metadata": {
    "colab": {
      "provenance": []
    },
    "kernelspec": {
      "name": "python3",
      "display_name": "Python 3"
    },
    "language_info": {
      "name": "python"
    }
  },
  "cells": [
    {
      "cell_type": "code",
      "execution_count": 1,
      "metadata": {
        "id": "6B70gUWkMx-Z"
      },
      "outputs": [],
      "source": [
        "from IPython.core.interactiveshell import InteractiveShell\n",
        "InteractiveShell.ast_node_interactivity = \"all\""
      ]
    },
    {
      "cell_type": "markdown",
      "source": [
        "Q1. What is an Exception in Python? Write the difference between Exceptions and Syntax errors.\n",
        "\n",
        "In Python, an Exception is an event that occurs during the execution of a program and disrupts the normal flow of the program's instructions. It represents an error or exceptional condition that needs to be handled.\n",
        "\n",
        "Difference between Exceptions and Syntax errors:\n",
        "\n",
        "Exceptions: These occur during the runtime of a program and are related to logical errors or exceptional conditions that can be handled. Examples include ValueError, TypeError, ZeroDivisionError, etc. Exceptions can be caught and handled using exception handling mechanisms.\n",
        "Syntax errors: These occur during the parsing of the code, i.e., when the Python interpreter encounters code that does not follow the correct syntax rules. Syntax errors are related to the structure or grammar of the code and need to be fixed before the code can be executed."
      ],
      "metadata": {
        "id": "Khuzn_xYMzHb"
      }
    },
    {
      "cell_type": "markdown",
      "source": [
        "Q2. What happens when an exception is not handled? Explain with an example.\n",
        "\n",
        "When an exception is not handled, it results in an error message being displayed, and the program terminates abruptly. This behavior is known as an unhandled exception."
      ],
      "metadata": {
        "id": "YeiuAYRDM7L1"
      }
    },
    {
      "cell_type": "code",
      "source": [
        "# An exception is not handled\n",
        "num1 = 10\n",
        "num2 = 0\n",
        "result = num1 / num2\n",
        "print(\"Result:\", result)  # This line will not be executed\n"
      ],
      "metadata": {
        "colab": {
          "base_uri": "https://localhost:8080/",
          "height": 218
        },
        "id": "oofuyCoIMzlQ",
        "outputId": "e6ca8b77-8e65-4ae6-c3e1-bed1f93554ee"
      },
      "execution_count": 2,
      "outputs": [
        {
          "output_type": "error",
          "ename": "ZeroDivisionError",
          "evalue": "ignored",
          "traceback": [
            "\u001b[0;31m---------------------------------------------------------------------------\u001b[0m",
            "\u001b[0;31mZeroDivisionError\u001b[0m                         Traceback (most recent call last)",
            "\u001b[0;32m<ipython-input-2-e80087b203d8>\u001b[0m in \u001b[0;36m<cell line: 4>\u001b[0;34m()\u001b[0m\n\u001b[1;32m      2\u001b[0m \u001b[0mnum1\u001b[0m \u001b[0;34m=\u001b[0m \u001b[0;36m10\u001b[0m\u001b[0;34m\u001b[0m\u001b[0;34m\u001b[0m\u001b[0m\n\u001b[1;32m      3\u001b[0m \u001b[0mnum2\u001b[0m \u001b[0;34m=\u001b[0m \u001b[0;36m0\u001b[0m\u001b[0;34m\u001b[0m\u001b[0;34m\u001b[0m\u001b[0m\n\u001b[0;32m----> 4\u001b[0;31m \u001b[0mresult\u001b[0m \u001b[0;34m=\u001b[0m \u001b[0mnum1\u001b[0m \u001b[0;34m/\u001b[0m \u001b[0mnum2\u001b[0m\u001b[0;34m\u001b[0m\u001b[0;34m\u001b[0m\u001b[0m\n\u001b[0m\u001b[1;32m      5\u001b[0m \u001b[0mprint\u001b[0m\u001b[0;34m(\u001b[0m\u001b[0;34m\"Result:\"\u001b[0m\u001b[0;34m,\u001b[0m \u001b[0mresult\u001b[0m\u001b[0;34m)\u001b[0m  \u001b[0;31m# This line will not be executed\u001b[0m\u001b[0;34m\u001b[0m\u001b[0;34m\u001b[0m\u001b[0m\n",
            "\u001b[0;31mZeroDivisionError\u001b[0m: division by zero"
          ]
        }
      ]
    },
    {
      "cell_type": "markdown",
      "source": [
        "In this example, a ZeroDivisionError occurs because we are trying to divide a number by zero. Since the exception is not handled, it leads to a runtime error, and the program terminates with a ZeroDivisionError message."
      ],
      "metadata": {
        "id": "vzjUGT3-NDis"
      }
    },
    {
      "cell_type": "markdown",
      "source": [
        "Q3. Which Python statements are used to raise and handle exceptions? Explain with an example.\n",
        "\n",
        "The Python statements used to raise and handle exceptions are try, except, else, finally.\n",
        "\n",
        "try: This block is used to enclose the code that might raise an exception.\n",
        "except: This block is used to handle the exception raised in the try block. It specifies the type of exception to catch and the code to be executed when that exception occurs.\n",
        "else: This block is optional and executed only if no exceptions occur in the try block.\n",
        "finally: This block is also optional and executed regardless of whether an exception occurs or not. It is typically used to perform cleanup operations.\n"
      ],
      "metadata": {
        "id": "xkI3yOFyNLxI"
      }
    },
    {
      "cell_type": "code",
      "source": [
        "try:\n",
        "    # Code that might raise an exception\n",
        "    num1 = int(input(\"Enter a number: \"))\n",
        "    num2 = int(input(\"Enter another number: \"))\n",
        "    result = num1 / num2\n",
        "    print(\"Result:\", result)\n",
        "except ZeroDivisionError:\n",
        "    print(\"Error: Cannot divide by zero!\")\n",
        "else:\n",
        "    print(\"Division successful.\")\n",
        "finally:\n",
        "    print(\"Cleanup operations.\")\n"
      ],
      "metadata": {
        "colab": {
          "base_uri": "https://localhost:8080/"
        },
        "id": "3JQIxAh6NCU8",
        "outputId": "c6232b0c-dd4a-4727-c0e1-03c2c945edfd"
      },
      "execution_count": 5,
      "outputs": [
        {
          "output_type": "stream",
          "name": "stdout",
          "text": [
            "Enter a number: 100\n",
            "Enter another number: 0\n",
            "Error: Cannot divide by zero!\n",
            "Cleanup operations.\n"
          ]
        }
      ]
    },
    {
      "cell_type": "markdown",
      "source": [
        "In this example, the try block attempts to divide two numbers. If a ZeroDivisionError occurs, the except block is executed, printing an error message. If no exceptions occur, the else block is executed, indicating successful division. Finally, the finally block is executed, performing cleanup operations."
      ],
      "metadata": {
        "id": "SUyZ8sr7NXFq"
      }
    },
    {
      "cell_type": "markdown",
      "source": [
        "Q4. Explain with an example: try, else, finally, and raise."
      ],
      "metadata": {
        "id": "3a2OZBTwNahg"
      }
    },
    {
      "cell_type": "code",
      "source": [
        "try:\n",
        "    num = int(input(\"Enter a positive number: \"))\n",
        "    if num <= 0:\n",
        "        raise ValueError(\"Number must be positive\")\n",
        "except ValueError as ve:\n",
        "    print(\"Error:\", ve)\n",
        "else:\n",
        "    print(\"Number entered:\", num)\n",
        "finally:\n",
        "    print(\"Cleanup operations\")\n"
      ],
      "metadata": {
        "colab": {
          "base_uri": "https://localhost:8080/"
        },
        "id": "7Un0ke9lNOT2",
        "outputId": "c2d5a285-8d00-46c2-a963-db1d5c94b291"
      },
      "execution_count": 7,
      "outputs": [
        {
          "output_type": "stream",
          "name": "stdout",
          "text": [
            "Enter a positive number: -200\n",
            "Error: Number must be positive\n",
            "Cleanup operations\n"
          ]
        }
      ]
    },
    {
      "cell_type": "markdown",
      "source": [
        "In this example:\n",
        "\n",
        "The try block attempts to get user input and raises a ValueError if the entered number is not positive.\n",
        "If a ValueError occurs, the except block is executed, printing the error message.\n",
        "If no exceptions occur, the else block is executed, printing the entered number.\n",
        "Finally, the finally block is executed, performing cleanup operations."
      ],
      "metadata": {
        "id": "wl8vYM6LNkvv"
      }
    },
    {
      "cell_type": "markdown",
      "source": [
        "Q5. What are Custom Exceptions in Python? Why do we need Custom Exceptions? Explain with an example."
      ],
      "metadata": {
        "id": "TIUVAwJRNmYd"
      }
    },
    {
      "cell_type": "code",
      "source": [
        "class NotEnoughBalanceError(Exception):\n",
        "    pass\n",
        "\n",
        "def withdraw(amount, balance):\n",
        "    if amount > balance:\n",
        "        raise NotEnoughBalanceError(\"Insufficient balance\")\n",
        "    else:\n",
        "        print(\"Withdrawal successful\")\n",
        "\n",
        "try:\n",
        "    withdraw(1000, 500)  # Raises NotEnoughBalanceError\n",
        "except NotEnoughBalanceError as nebe:\n",
        "    print(\"Error:\", nebe)\n"
      ],
      "metadata": {
        "colab": {
          "base_uri": "https://localhost:8080/"
        },
        "id": "lmK05DrXNsaN",
        "outputId": "6ac16afa-edf2-405f-8222-8d5c127cec54"
      },
      "execution_count": 8,
      "outputs": [
        {
          "output_type": "stream",
          "name": "stdout",
          "text": [
            "Error: Insufficient balance\n"
          ]
        }
      ]
    },
    {
      "cell_type": "markdown",
      "source": [
        "Q6. Create a custom exception class. Use this class to handle an exception."
      ],
      "metadata": {
        "id": "QiimX-FON0Fn"
      }
    },
    {
      "cell_type": "code",
      "source": [
        "class CustomException(Exception):\n",
        "    pass\n",
        "\n",
        "try:\n",
        "    raise CustomException(\"This is a custom exception\")\n",
        "except CustomException as ce:\n",
        "    print(\"Error:\", ce)\n"
      ],
      "metadata": {
        "colab": {
          "base_uri": "https://localhost:8080/"
        },
        "id": "GZJkaLaJNt-G",
        "outputId": "7e4e3cae-5a8e-45c3-9f0c-632f4602bb85"
      },
      "execution_count": 9,
      "outputs": [
        {
          "output_type": "stream",
          "name": "stdout",
          "text": [
            "Error: This is a custom exception\n"
          ]
        }
      ]
    },
    {
      "cell_type": "code",
      "source": [],
      "metadata": {
        "id": "Zbk5fqV-Ny_C"
      },
      "execution_count": null,
      "outputs": []
    }
  ]
}