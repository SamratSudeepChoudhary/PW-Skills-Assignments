{
  "nbformat": 4,
  "nbformat_minor": 0,
  "metadata": {
    "colab": {
      "provenance": []
    },
    "kernelspec": {
      "name": "python3",
      "display_name": "Python 3"
    },
    "language_info": {
      "name": "python"
    }
  },
  "cells": [
    {
      "cell_type": "code",
      "execution_count": 1,
      "metadata": {
        "id": "bbddN6HNDHDW"
      },
      "outputs": [],
      "source": [
        "from IPython.core.interactiveshell import InteractiveShell\n",
        "InteractiveShell.ast_node_interactivity = \"all\""
      ]
    },
    {
      "cell_type": "markdown",
      "source": [
        "Q1. Explain Class and Object with respect to Object-Oriented Programming. Give a suitable example."
      ],
      "metadata": {
        "id": "UR7l2XEpDHp-"
      }
    },
    {
      "cell_type": "code",
      "source": [
        "class Dog: # Class\n",
        "    def __init__(self, name):\n",
        "        self.name = name\n",
        "\n",
        "    def bark(self):\n",
        "        print(f\"{self.name} is barking.\")\n",
        "\n",
        "my_dog = Dog(\"Buddy\") # Object\n",
        "my_dog.bark()  # Output: Buddy is barking.\n"
      ],
      "metadata": {
        "colab": {
          "base_uri": "https://localhost:8080/"
        },
        "id": "zog9yAd8DIQE",
        "outputId": "e4c98f18-742e-4ede-befb-cf11779812ee"
      },
      "execution_count": 3,
      "outputs": [
        {
          "output_type": "stream",
          "name": "stdout",
          "text": [
            "Buddy is barking.\n"
          ]
        }
      ]
    },
    {
      "cell_type": "markdown",
      "source": [
        "Q2. Name the four pillars of OOPs."
      ],
      "metadata": {
        "id": "4jIn-n2xDcmh"
      }
    },
    {
      "cell_type": "code",
      "source": [
        "# Encapsulation\n",
        "\n",
        "class BankAccount:\n",
        "    def __init__(self, account_number, balance):\n",
        "        self._account_number = account_number\n",
        "        self._balance = balance\n",
        "\n",
        "    def deposit(self, amount):\n",
        "        self._balance += amount\n",
        "\n",
        "    def withdraw(self, amount):\n",
        "        if amount <= self._balance:\n",
        "            self._balance -= amount\n",
        "        else:\n",
        "            print(\"Insufficient balance.\")\n",
        "\n",
        "    def get_balance(self):\n",
        "        return self._balance\n",
        "\n",
        "# Usage:\n",
        "account = BankAccount(\"1234567890\", 1000)\n",
        "account.deposit(500)\n",
        "account.withdraw(200)\n",
        "print(account.get_balance())  # Output: 1300\n"
      ],
      "metadata": {
        "colab": {
          "base_uri": "https://localhost:8080/"
        },
        "id": "SuHR0xtcDP_w",
        "outputId": "ed8f8895-8080-4fb2-efc2-9ca6286f450e"
      },
      "execution_count": 10,
      "outputs": [
        {
          "output_type": "stream",
          "name": "stdout",
          "text": [
            "1300\n"
          ]
        }
      ]
    },
    {
      "cell_type": "code",
      "source": [
        "# Abstraction\n",
        "\n",
        "from abc import ABC, abstractmethod\n",
        "\n",
        "class Shape(ABC):\n",
        "    @abstractmethod\n",
        "    def calculate_area(self):\n",
        "        pass\n",
        "\n",
        "class Rectangle(Shape):\n",
        "    def __init__(self, width, height):\n",
        "        self._width = width\n",
        "        self._height = height\n",
        "\n",
        "    def calculate_area(self):\n",
        "        return self._width * self._height\n",
        "\n",
        "class Circle(Shape):\n",
        "    def __init__(self, radius):\n",
        "        self._radius = radius\n",
        "\n",
        "    def calculate_area(self):\n",
        "        return 3.14 * self._radius ** 2\n",
        "\n",
        "# Usage:\n",
        "rectangle = Rectangle(5, 3)\n",
        "print(rectangle.calculate_area())  # Output: 15\n",
        "\n",
        "circle = Circle(7)\n",
        "print(circle.calculate_area())  # Output: 153.86\n"
      ],
      "metadata": {
        "colab": {
          "base_uri": "https://localhost:8080/"
        },
        "id": "UM_uJT_bFRKI",
        "outputId": "bfd9e9da-dcc4-403a-8a47-d1c13b97c793"
      },
      "execution_count": 12,
      "outputs": [
        {
          "output_type": "stream",
          "name": "stdout",
          "text": [
            "15\n",
            "153.86\n"
          ]
        }
      ]
    },
    {
      "cell_type": "code",
      "source": [
        "# Inheritance\n",
        "\n",
        "class Vehicle:\n",
        "    def __init__(self, name):\n",
        "        self.name = name\n",
        "\n",
        "    def start(self):\n",
        "        print(f\"{self.name} has started.\")\n",
        "\n",
        "    def stop(self):\n",
        "        print(f\"{self.name} has stopped.\")\n",
        "\n",
        "\n",
        "class Car(Vehicle):\n",
        "    def __init__(self, name, fuel_type):\n",
        "        super().__init__(name)\n",
        "        self.fuel_type = fuel_type\n",
        "\n",
        "    def drive(self):\n",
        "        print(f\"{self.name} is driving.\")\n",
        "\n",
        "\n",
        "class Motorcycle(Vehicle):\n",
        "    def __init__(self, name, num_wheels):\n",
        "        super().__init__(name)\n",
        "        self.num_wheels = num_wheels\n",
        "\n",
        "    def ride(self):\n",
        "        print(f\"{self.name} is riding.\")\n",
        "\n",
        "\n",
        "# Usage:\n",
        "car = Car(\"Tesla Model 3\", \"Electric\")\n",
        "car.start()  # Output: Tesla Model 3 has started.\n",
        "car.drive()  # Output: Tesla Model 3 is driving.\n",
        "car.stop()  # Output: Tesla Model 3 has stopped.\n",
        "\n",
        "motorcycle = Motorcycle(\"Honda CB500X\", 2)\n",
        "motorcycle.start()  # Output: Honda CB500X has started.\n",
        "motorcycle.ride()  # Output: Honda CB500X is riding.\n",
        "motorcycle.stop()  # Output: Honda CB500X has stopped.\n"
      ],
      "metadata": {
        "colab": {
          "base_uri": "https://localhost:8080/"
        },
        "id": "1URc5HK4FVSI",
        "outputId": "f55fcb53-235c-4a14-d79c-f9066dc4e7e9"
      },
      "execution_count": 13,
      "outputs": [
        {
          "output_type": "stream",
          "name": "stdout",
          "text": [
            "Tesla Model 3 has started.\n",
            "Tesla Model 3 is driving.\n",
            "Tesla Model 3 has stopped.\n",
            "Honda CB500X has started.\n",
            "Honda CB500X is riding.\n",
            "Honda CB500X has stopped.\n"
          ]
        }
      ]
    },
    {
      "cell_type": "code",
      "source": [
        "# Polymorphism\n",
        "\n",
        "class Animal:\n",
        "    def __init__(self, name):\n",
        "        self.name = name\n",
        "\n",
        "    def make_sound(self):\n",
        "        pass\n",
        "\n",
        "\n",
        "class Dog(Animal):\n",
        "    def make_sound(self):\n",
        "        print(\"Dog barks.\")\n",
        "\n",
        "\n",
        "class Cat(Animal):\n",
        "    def make_sound(self):\n",
        "        print(\"Cat meows.\")\n",
        "\n",
        "\n",
        "# Usage:\n",
        "def make_animal_sound(animal):\n",
        "    animal.make_sound()\n",
        "\n",
        "\n",
        "dog = Dog(\"Buddy\")\n",
        "make_animal_sound(dog)  # Output: Dog barks.\n",
        "\n",
        "cat = Cat(\"Whiskers\")\n",
        "make_animal_sound(cat)  # Output: Cat meows.\n"
      ],
      "metadata": {
        "colab": {
          "base_uri": "https://localhost:8080/"
        },
        "id": "FH0ZXzlfFipo",
        "outputId": "c908ca07-4fa2-4e51-af6b-28b81edd13aa"
      },
      "execution_count": 14,
      "outputs": [
        {
          "output_type": "stream",
          "name": "stdout",
          "text": [
            "Dog barks.\n",
            "Cat meows.\n"
          ]
        }
      ]
    },
    {
      "cell_type": "markdown",
      "source": [
        "Q3. Explain why the __init__() function is used. Give a suitable example."
      ],
      "metadata": {
        "id": "kWVQTV-4GHYQ"
      }
    },
    {
      "cell_type": "code",
      "source": [
        "class Person:\n",
        "    def __init__(self, name, age):\n",
        "        self.name = name\n",
        "        self.age = age\n",
        "\n",
        "person1 = Person(\"Alice\", 25)\n",
        "print(person1.name)  # Output: Alice\n",
        "print(person1.age)   # Output: 25\n",
        "\n",
        "# In this example, the __init__() method of the Person class initializes the name and age attributes of the person1 object."
      ],
      "metadata": {
        "colab": {
          "base_uri": "https://localhost:8080/"
        },
        "id": "Xd3z4DUmFm9P",
        "outputId": "a7d30be4-73f4-4d9b-b69d-fb5f85a0d939"
      },
      "execution_count": 16,
      "outputs": [
        {
          "output_type": "stream",
          "name": "stdout",
          "text": [
            "Alice\n",
            "25\n"
          ]
        }
      ]
    },
    {
      "cell_type": "markdown",
      "source": [
        "Q4. Why self is used in OOPs?\""
      ],
      "metadata": {
        "id": "esFJ54LtGz5R"
      }
    },
    {
      "cell_type": "code",
      "source": [
        "class Person:\n",
        "    def __init__(self, name):\n",
        "        self.name = name\n",
        "\n",
        "    def say_hello(self):\n",
        "        print(f\"Hello, my name is {self.name}.\")\n",
        "\n",
        "person = Person(\"John\")\n",
        "person.say_hello()  # Output: Hello, my name is John.\n",
        "\n",
        "# In this example, the self parameter is used to access the name attribute of the person object within the say_hello() method."
      ],
      "metadata": {
        "colab": {
          "base_uri": "https://localhost:8080/"
        },
        "id": "vKbgH8maGgt0",
        "outputId": "64bc2996-7c3b-45c7-b684-3a69866d9bec"
      },
      "execution_count": 18,
      "outputs": [
        {
          "output_type": "stream",
          "name": "stdout",
          "text": [
            "Hello, my name is John.\n"
          ]
        }
      ]
    },
    {
      "cell_type": "markdown",
      "source": [
        "Q5. What is inheritance? Give an example for each type of inheritance."
      ],
      "metadata": {
        "id": "SoXCiukFHIRR"
      }
    },
    {
      "cell_type": "code",
      "source": [
        "# Single Inheritance: A subclass inherits from a single superclass.\n",
        "\n",
        "class Animal:\n",
        "    def eat(self):\n",
        "        print(\"Animal is eating.\")\n",
        "\n",
        "class Dog(Animal):\n",
        "    def bark(self):\n",
        "        print(\"Dog is barking.\")\n",
        "\n",
        "my_dog = Dog()\n",
        "my_dog.eat()  # Output: Animal is eating.\n",
        "my_dog.bark()  # Output: Dog is barking.\n"
      ],
      "metadata": {
        "colab": {
          "base_uri": "https://localhost:8080/"
        },
        "id": "jQkZ4mwHHJyp",
        "outputId": "42aa2065-b3fb-4967-a276-8fbfe34fb750"
      },
      "execution_count": 24,
      "outputs": [
        {
          "output_type": "stream",
          "name": "stdout",
          "text": [
            "Animal is eating.\n",
            "Dog is barking.\n"
          ]
        }
      ]
    },
    {
      "cell_type": "code",
      "source": [
        "# Multiple Inheritance: A subclass inherits from multiple superclasses.\n",
        "\n",
        "class Car:\n",
        "    def drive(self):\n",
        "        print(\"Car is driving.\")\n",
        "\n",
        "class Electric:\n",
        "    def charge(self):\n",
        "        print(\"Electric is charging.\")\n",
        "\n",
        "class HybridCar(Car, Electric):\n",
        "    pass\n",
        "\n",
        "my_car = HybridCar()\n",
        "my_car.drive()  # Output: Car is driving.\n",
        "my_car.charge()  # Output: Electric is charging.\n"
      ],
      "metadata": {
        "colab": {
          "base_uri": "https://localhost:8080/"
        },
        "id": "pjmf9S_kHMz7",
        "outputId": "78dbb104-0aa2-41e6-a519-1195ec976c62"
      },
      "execution_count": 25,
      "outputs": [
        {
          "output_type": "stream",
          "name": "stdout",
          "text": [
            "Car is driving.\n",
            "Electric is charging.\n"
          ]
        }
      ]
    },
    {
      "cell_type": "code",
      "source": [
        "# Multilevel Inheritance: A subclass inherits from another subclass.\n",
        "\n",
        "class Animal:\n",
        "    def eat(self):\n",
        "        print(\"Animal is eating.\")\n",
        "\n",
        "class Dog(Animal):\n",
        "    def bark(self):\n",
        "        print(\"Dog is barking.\")\n",
        "\n",
        "class Bulldog(Dog):\n",
        "    def guard(self):\n",
        "        print(\"Bulldog is guarding.\")\n",
        "\n",
        "my_bulldog = Bulldog()\n",
        "my_bulldog.eat()  # Output: Animal is eating.\n",
        "my_bulldog.bark()  # Output: Dog is barking.\n",
        "my_bulldog.guard()  # Output: Bulldog is guarding.\n"
      ],
      "metadata": {
        "colab": {
          "base_uri": "https://localhost:8080/"
        },
        "id": "2ixlPeImHOvw",
        "outputId": "9db19ca3-1d5b-4ea6-f53f-a93677a1201e"
      },
      "execution_count": 26,
      "outputs": [
        {
          "output_type": "stream",
          "name": "stdout",
          "text": [
            "Animal is eating.\n",
            "Dog is barking.\n",
            "Bulldog is guarding.\n"
          ]
        }
      ]
    },
    {
      "cell_type": "code",
      "source": [
        "# Hierarchical Inheritance: Multiple subclasses inherit from a single superclass.\n",
        "\n",
        "class Animal:\n",
        "    def eat(self):\n",
        "        print(\"Animal is eating.\")\n",
        "\n",
        "class Dog(Animal):\n",
        "    def bark(self):\n",
        "        print(\"Dog is barking.\")\n",
        "\n",
        "class Cat(Animal):\n",
        "    def meow(self):\n",
        "        print(\"Cat is meowing.\")\n",
        "\n",
        "my_dog = Dog()\n",
        "my_dog.eat()  # Output: Animal is eating.\n",
        "my_dog.bark()  # Output: Dog is barking.\n",
        "\n",
        "my_cat = Cat()\n",
        "my_cat.eat()  # Output: Animal is eating.\n",
        "my_cat.meow()  # Output: Cat is meowing.\n"
      ],
      "metadata": {
        "colab": {
          "base_uri": "https://localhost:8080/"
        },
        "id": "1eDRuy5oHTZu",
        "outputId": "8687b096-a850-4e94-dc0c-a5bb7090c0cb"
      },
      "execution_count": 29,
      "outputs": [
        {
          "output_type": "stream",
          "name": "stdout",
          "text": [
            "Animal is eating.\n",
            "Dog is barking.\n",
            "Animal is eating.\n",
            "Cat is meowing.\n"
          ]
        }
      ]
    },
    {
      "cell_type": "code",
      "source": [],
      "metadata": {
        "id": "MAS_YR0GHVEc"
      },
      "execution_count": null,
      "outputs": []
    }
  ]
}