{
  "nbformat": 4,
  "nbformat_minor": 0,
  "metadata": {
    "colab": {
      "provenance": []
    },
    "kernelspec": {
      "name": "python3",
      "display_name": "Python 3"
    },
    "language_info": {
      "name": "python"
    }
  },
  "cells": [
    {
      "cell_type": "code",
      "source": [
        "from IPython.core.interactiveshell import InteractiveShell\n",
        "InteractiveShell.ast_node_interactivity = \"all\""
      ],
      "metadata": {
        "id": "HnGn_EdynWv5"
      },
      "execution_count": 12,
      "outputs": []
    },
    {
      "cell_type": "markdown",
      "source": [
        "Q1. Create one variable containing following type of data:\n",
        "(i) string\n",
        "(ii) list\n",
        "(iii) float\n",
        "(iv) tuple"
      ],
      "metadata": {
        "id": "v3UjWbaLm-kM"
      }
    },
    {
      "cell_type": "code",
      "source": [
        "x1 = \"Samrat\"\n",
        "type(x1)"
      ],
      "metadata": {
        "colab": {
          "base_uri": "https://localhost:8080/"
        },
        "id": "PVhUz8ynm97c",
        "outputId": "8fd62230-14cc-4681-ec2f-5702e845bbe4"
      },
      "execution_count": 17,
      "outputs": [
        {
          "output_type": "execute_result",
          "data": {
            "text/plain": [
              "str"
            ]
          },
          "metadata": {},
          "execution_count": 17
        }
      ]
    },
    {
      "cell_type": "code",
      "source": [
        "x2 = [1, 2.34, 3+4j, 'Samrat', True]\n",
        "type(x2)"
      ],
      "metadata": {
        "colab": {
          "base_uri": "https://localhost:8080/"
        },
        "id": "MSWxgDwHqKoX",
        "outputId": "e9ba4a89-46bd-4660-eaec-1fc98d395d2e"
      },
      "execution_count": 18,
      "outputs": [
        {
          "output_type": "execute_result",
          "data": {
            "text/plain": [
              "list"
            ]
          },
          "metadata": {},
          "execution_count": 18
        }
      ]
    },
    {
      "cell_type": "code",
      "source": [
        "x3 = 6.14\n",
        "type(x3)"
      ],
      "metadata": {
        "colab": {
          "base_uri": "https://localhost:8080/"
        },
        "id": "r4NUa-alqKsS",
        "outputId": "63a873b1-e27c-4f91-fa20-663928dd63ef"
      },
      "execution_count": 19,
      "outputs": [
        {
          "output_type": "execute_result",
          "data": {
            "text/plain": [
              "float"
            ]
          },
          "metadata": {},
          "execution_count": 19
        }
      ]
    },
    {
      "cell_type": "code",
      "source": [
        "x4 = (1, 2.34, 3+4j, 'Samrat', True)\n",
        "type(x4)"
      ],
      "metadata": {
        "colab": {
          "base_uri": "https://localhost:8080/"
        },
        "id": "_0wxCR0VqKwG",
        "outputId": "a39c8e54-90a9-422f-d5bb-4872784e500d"
      },
      "execution_count": 21,
      "outputs": [
        {
          "output_type": "execute_result",
          "data": {
            "text/plain": [
              "tuple"
            ]
          },
          "metadata": {},
          "execution_count": 21
        }
      ]
    },
    {
      "cell_type": "markdown",
      "source": [
        "Q2. Given are some following variables containing data:\n",
        "(i) var1 = ‘ ‘\n",
        "(ii) var2 = ‘[ DS , ML , Python]’\n",
        "(iii) var3 = [ ‘DS’ , ’ML’ , ‘Python’ ]\n",
        "(iv) var4 = 1.\n",
        "What will be the data type of the above given variable."
      ],
      "metadata": {
        "id": "Dgmgusc2ozZs"
      }
    },
    {
      "cell_type": "code",
      "source": [
        "var1 = ''\n",
        "type(var1)"
      ],
      "metadata": {
        "colab": {
          "base_uri": "https://localhost:8080/"
        },
        "id": "bc_a2dwxm-CB",
        "outputId": "d1ab62e1-e2e0-4ef2-e2eb-7d066c98cf0c"
      },
      "execution_count": 22,
      "outputs": [
        {
          "output_type": "execute_result",
          "data": {
            "text/plain": [
              "str"
            ]
          },
          "metadata": {},
          "execution_count": 22
        }
      ]
    },
    {
      "cell_type": "code",
      "source": [
        "var2 = '[ DS , ML , Python]'\n",
        "type(var2)"
      ],
      "metadata": {
        "colab": {
          "base_uri": "https://localhost:8080/"
        },
        "id": "bOh_Qg9eqV_7",
        "outputId": "1babe34e-d4fa-46da-d55e-54585fef7063"
      },
      "execution_count": 23,
      "outputs": [
        {
          "output_type": "execute_result",
          "data": {
            "text/plain": [
              "str"
            ]
          },
          "metadata": {},
          "execution_count": 23
        }
      ]
    },
    {
      "cell_type": "code",
      "source": [
        "var3 = [ 'DS' , 'ML' , 'Python' ]\n",
        "type(var3)"
      ],
      "metadata": {
        "colab": {
          "base_uri": "https://localhost:8080/"
        },
        "id": "0AUkWgAAqWDA",
        "outputId": "f926935e-47dc-4745-99d5-7571eab9642a"
      },
      "execution_count": 24,
      "outputs": [
        {
          "output_type": "execute_result",
          "data": {
            "text/plain": [
              "list"
            ]
          },
          "metadata": {},
          "execution_count": 24
        }
      ]
    },
    {
      "cell_type": "code",
      "source": [
        "var4 = 1.\n",
        "type(var4)"
      ],
      "metadata": {
        "colab": {
          "base_uri": "https://localhost:8080/"
        },
        "id": "Xs650ViPqWGU",
        "outputId": "248378c7-c6f0-40d0-d5a4-70d04fbe730a"
      },
      "execution_count": 25,
      "outputs": [
        {
          "output_type": "execute_result",
          "data": {
            "text/plain": [
              "float"
            ]
          },
          "metadata": {},
          "execution_count": 25
        }
      ]
    },
    {
      "cell_type": "markdown",
      "source": [
        "Q3. Explain the use of the following operators using an example:\n",
        "(i) /\n",
        "(ii) %\n",
        "(iii) //\n",
        "(iv) **"
      ],
      "metadata": {
        "id": "3-AJFAmXp-S_"
      }
    },
    {
      "cell_type": "code",
      "source": [
        "x = 10\n",
        "y = 3\n",
        "result = x / y\n",
        "\n",
        "result"
      ],
      "metadata": {
        "colab": {
          "base_uri": "https://localhost:8080/"
        },
        "id": "x2wOFsPmm-Fp",
        "outputId": "9269d465-eefd-47ca-af1e-3208c7e50a2a"
      },
      "execution_count": 26,
      "outputs": [
        {
          "output_type": "execute_result",
          "data": {
            "text/plain": [
              "3.3333333333333335"
            ]
          },
          "metadata": {},
          "execution_count": 26
        }
      ]
    },
    {
      "cell_type": "code",
      "source": [
        "x = 10\n",
        "y = 3\n",
        "result = x % y\n",
        "\n",
        "result"
      ],
      "metadata": {
        "colab": {
          "base_uri": "https://localhost:8080/"
        },
        "id": "9P1_bmMsq5oT",
        "outputId": "d3f5ed29-b515-4b2b-ce3a-2aaadc7fc244"
      },
      "execution_count": 27,
      "outputs": [
        {
          "output_type": "execute_result",
          "data": {
            "text/plain": [
              "1"
            ]
          },
          "metadata": {},
          "execution_count": 27
        }
      ]
    },
    {
      "cell_type": "code",
      "source": [
        "x = 10\n",
        "y = 3\n",
        "result = x // y\n",
        "\n",
        "result"
      ],
      "metadata": {
        "colab": {
          "base_uri": "https://localhost:8080/"
        },
        "id": "se0sX4FSrCUr",
        "outputId": "b5714b9c-8482-4de9-fb1e-94cd10882cb0"
      },
      "execution_count": 28,
      "outputs": [
        {
          "output_type": "execute_result",
          "data": {
            "text/plain": [
              "3"
            ]
          },
          "metadata": {},
          "execution_count": 28
        }
      ]
    },
    {
      "cell_type": "code",
      "source": [
        "x = 2\n",
        "y = 3\n",
        "result = x ** y\n",
        "\n",
        "result"
      ],
      "metadata": {
        "colab": {
          "base_uri": "https://localhost:8080/"
        },
        "id": "wDBpKJTqrIuI",
        "outputId": "864e5a0d-ea9d-4875-cb80-d79b7dd62a20"
      },
      "execution_count": 29,
      "outputs": [
        {
          "output_type": "execute_result",
          "data": {
            "text/plain": [
              "8"
            ]
          },
          "metadata": {},
          "execution_count": 29
        }
      ]
    },
    {
      "cell_type": "markdown",
      "source": [
        "Q4. Create a list of length 10 of your choice containing multiple types of data. Using for loop print the\n",
        "element and its data type."
      ],
      "metadata": {
        "id": "TKoiuiw0rnfc"
      }
    },
    {
      "cell_type": "code",
      "source": [
        "my_list = [10, 'Hello', 3.14, True, [1, 2, 3], 'Python', (4, 5, 6), {'name': 'John', 'age': 30}, None, 5 + 2j, {7, 8, 9}]\n",
        "\n",
        "for element in my_list:\n",
        "    print(f\"Element: {element} | Data Type: {type(element)}\")"
      ],
      "metadata": {
        "colab": {
          "base_uri": "https://localhost:8080/"
        },
        "id": "7j06HtGlrRXW",
        "outputId": "35a537dc-c5c2-4481-ca25-16494f879fb7"
      },
      "execution_count": 32,
      "outputs": [
        {
          "output_type": "stream",
          "name": "stdout",
          "text": [
            "Element: 10 | Data Type: <class 'int'>\n",
            "Element: Hello | Data Type: <class 'str'>\n",
            "Element: 3.14 | Data Type: <class 'float'>\n",
            "Element: True | Data Type: <class 'bool'>\n",
            "Element: [1, 2, 3] | Data Type: <class 'list'>\n",
            "Element: Python | Data Type: <class 'str'>\n",
            "Element: (4, 5, 6) | Data Type: <class 'tuple'>\n",
            "Element: {'name': 'John', 'age': 30} | Data Type: <class 'dict'>\n",
            "Element: None | Data Type: <class 'NoneType'>\n",
            "Element: (5+2j) | Data Type: <class 'complex'>\n",
            "Element: {8, 9, 7} | Data Type: <class 'set'>\n"
          ]
        }
      ]
    },
    {
      "cell_type": "markdown",
      "source": [
        "Q5. Using a while loop, verify if the number A is purely divisible by number B and if so then how many\n",
        "times it can be divisible."
      ],
      "metadata": {
        "id": "8edmWMBLuCRN"
      }
    },
    {
      "cell_type": "code",
      "source": [
        "A = 48\n",
        "B = 3\n",
        "count = 0\n",
        "\n",
        "while A % B == 0:\n",
        "    print(f\"A: {A}, B: {B}\")\n",
        "    A = A / B\n",
        "    count += 1\n",
        "\n",
        "print(f\"A is divisible by B {count} times.\")"
      ],
      "metadata": {
        "colab": {
          "base_uri": "https://localhost:8080/"
        },
        "id": "0U3MFzUctH3a",
        "outputId": "835867e2-bf24-47f3-dceb-7cb3cc30b55d"
      },
      "execution_count": 39,
      "outputs": [
        {
          "output_type": "stream",
          "name": "stdout",
          "text": [
            "A: 48, B: 3\n",
            "A is divisible by B 1 times.\n"
          ]
        }
      ]
    },
    {
      "cell_type": "markdown",
      "source": [
        "Q6. Create a list containing 25 int type data. Using for loop and if-else condition print if the element is\n",
        "divisible by 3 or not."
      ],
      "metadata": {
        "id": "RtSmcCPsucQY"
      }
    },
    {
      "cell_type": "code",
      "source": [
        "my_list = [10, 12, 15, 7, 9, 21, 30, 18, 4, 25, 33, 6, 27, 14, 22, 36, 19, 8, 13, 16, 20, 24, 28, 32, 11]\n",
        "\n",
        "for num in my_list:\n",
        "    if num % 3 == 0:\n",
        "        print(f\"{num} is divisible by 3.\")\n",
        "    else:\n",
        "        print(f\"{num} is not divisible by 3.\")"
      ],
      "metadata": {
        "colab": {
          "base_uri": "https://localhost:8080/"
        },
        "id": "hB_XiAHWroY3",
        "outputId": "c04ca493-ada5-495d-985a-e1c74d95528a"
      },
      "execution_count": 40,
      "outputs": [
        {
          "output_type": "stream",
          "name": "stdout",
          "text": [
            "10 is not divisible by 3.\n",
            "12 is divisible by 3.\n",
            "15 is divisible by 3.\n",
            "7 is not divisible by 3.\n",
            "9 is divisible by 3.\n",
            "21 is divisible by 3.\n",
            "30 is divisible by 3.\n",
            "18 is divisible by 3.\n",
            "4 is not divisible by 3.\n",
            "25 is not divisible by 3.\n",
            "33 is divisible by 3.\n",
            "6 is divisible by 3.\n",
            "27 is divisible by 3.\n",
            "14 is not divisible by 3.\n",
            "22 is not divisible by 3.\n",
            "36 is divisible by 3.\n",
            "19 is not divisible by 3.\n",
            "8 is not divisible by 3.\n",
            "13 is not divisible by 3.\n",
            "16 is not divisible by 3.\n",
            "20 is not divisible by 3.\n",
            "24 is divisible by 3.\n",
            "28 is not divisible by 3.\n",
            "32 is not divisible by 3.\n",
            "11 is not divisible by 3.\n"
          ]
        }
      ]
    },
    {
      "cell_type": "markdown",
      "source": [
        "Q7. What do you understand about mutable and immutable data types? Give examples for both showing\n",
        "this property."
      ],
      "metadata": {
        "id": "_NPmhIpxvsSQ"
      }
    },
    {
      "cell_type": "code",
      "source": [
        "# Immutable data types:\n",
        "# Immutable objects cannot be modified once they are created.\n",
        "# Any operation that appears to modify an immutable object actually creates a new object with the modified value.\n",
        "\n",
        "# Integer (int): e.g., x = 5\n",
        "# Float (float): e.g., y = 3.14\n",
        "# String (str): e.g., name = \"John\"\n",
        "# Tuple (tuple): e.g., coordinates = (10, 20)\n",
        "\n",
        "x = 5\n",
        "x += 1\n",
        "print(x)  # Output: 6 (x is a new object with the modified value)\n",
        "\n",
        "name = \"John\"\n",
        "name += \" Doe\"\n",
        "print(name)  # Output: \"John Doe\" (name is a new object with the modified value)\n",
        "\n",
        "coordinates = (10, 20)\n",
        "# coordinates[0] = 5  # This will raise an error as tuples are immutable"
      ],
      "metadata": {
        "colab": {
          "base_uri": "https://localhost:8080/"
        },
        "id": "XAPcb0xtvSl_",
        "outputId": "26f16bb4-7b80-4a5d-9eba-60bf5ee06fab"
      },
      "execution_count": 41,
      "outputs": [
        {
          "output_type": "stream",
          "name": "stdout",
          "text": [
            "6\n",
            "John Doe\n"
          ]
        }
      ]
    },
    {
      "cell_type": "code",
      "source": [
        "# Mutable data types:\n",
        "# Mutable objects can be modified after they are created.\n",
        "# Operations on mutable objects directly modify the object without creating a new one.\n",
        "\n",
        "# List (list): e.g., numbers = [1, 2, 3]\n",
        "# Dictionary (dict): e.g., person = {\"name\": \"John\", \"age\": 30}\n",
        "# Set (set): e.g., fruits = {\"apple\", \"banana\", \"orange\"}\n",
        "\n",
        "numbers = [1, 2, 3]\n",
        "numbers.append(4)\n",
        "print(numbers)  # Output: [1, 2, 3, 4] (numbers is modified directly)\n",
        "\n",
        "person = {\"name\": \"John\", \"age\": 30}\n",
        "person[\"age\"] = 31\n",
        "print(person)  # Output: {\"name\": \"John\", \"age\": 31} (person is modified directly)\n",
        "\n",
        "fruits = {\"apple\", \"banana\", \"orange\"}\n",
        "fruits.add(\"grape\")\n",
        "print(fruits)  # Output: {\"apple\", \"banana\", \"orange\", \"grape\"} (fruits is modified directly)"
      ],
      "metadata": {
        "colab": {
          "base_uri": "https://localhost:8080/"
        },
        "id": "T10RxQHIvSpK",
        "outputId": "5016d065-e792-49bc-92c0-3278f3db188a"
      },
      "execution_count": 42,
      "outputs": [
        {
          "output_type": "stream",
          "name": "stdout",
          "text": [
            "[1, 2, 3, 4]\n",
            "{'name': 'John', 'age': 31}\n",
            "{'grape', 'apple', 'orange', 'banana'}\n"
          ]
        }
      ]
    }
  ]
}