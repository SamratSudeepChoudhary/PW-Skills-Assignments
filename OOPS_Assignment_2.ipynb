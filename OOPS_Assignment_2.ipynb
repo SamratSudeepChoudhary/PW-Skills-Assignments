{
  "nbformat": 4,
  "nbformat_minor": 0,
  "metadata": {
    "colab": {
      "provenance": []
    },
    "kernelspec": {
      "name": "python3",
      "display_name": "Python 3"
    },
    "language_info": {
      "name": "python"
    }
  },
  "cells": [
    {
      "cell_type": "code",
      "execution_count": 1,
      "metadata": {
        "id": "Rm4yZsCaInf_"
      },
      "outputs": [],
      "source": [
        "from IPython.core.interactiveshell import InteractiveShell\n",
        "InteractiveShell.ast_node_interactivity = \"all\""
      ]
    },
    {
      "cell_type": "markdown",
      "source": [
        "Q1. What is Abstraction in OOps? Explain with an example."
      ],
      "metadata": {
        "id": "PARgJWc2I0tO"
      }
    },
    {
      "cell_type": "code",
      "source": [
        "from abc import ABC, abstractmethod\n",
        "\n",
        "class Shape(ABC):\n",
        "    @abstractmethod\n",
        "    def calculate_area(self):\n",
        "        pass\n",
        "\n",
        "class Rectangle(Shape):\n",
        "    def __init__(self, width, height):\n",
        "        self._width = width\n",
        "        self._height = height\n",
        "\n",
        "    def calculate_area(self):\n",
        "        return self._width * self._height\n",
        "\n",
        "class Circle(Shape):\n",
        "    def __init__(self, radius):\n",
        "        self._radius = radius\n",
        "\n",
        "    def calculate_area(self):\n",
        "        return 3.14 * self._radius ** 2\n",
        "\n",
        "# Usage:\n",
        "rectangle = Rectangle(5, 3)\n",
        "print(rectangle.calculate_area())  # Output: 15\n",
        "\n",
        "circle = Circle(7)\n",
        "print(circle.calculate_area())  # Output: 153.86\n"
      ],
      "metadata": {
        "colab": {
          "base_uri": "https://localhost:8080/"
        },
        "id": "hN3K6joiI0cA",
        "outputId": "2bd05b57-ec74-4da9-ef4a-976181279b06"
      },
      "execution_count": 3,
      "outputs": [
        {
          "output_type": "stream",
          "name": "stdout",
          "text": [
            "15\n",
            "153.86\n"
          ]
        }
      ]
    },
    {
      "cell_type": "markdown",
      "source": [
        "Q2. Differentiate between Abstraction and Encapsulation. Explain with an example."
      ],
      "metadata": {
        "id": "9dcNfqz7JGGV"
      }
    },
    {
      "cell_type": "markdown",
      "source": [
        "Abstraction focuses on the behavior and characteristics of objects, emphasizing the creation of abstract classes or interfaces that define common structure and behavior while hiding implementation details. Abstraction simplifies complex systems by breaking them down into manageable and reusable components.\n",
        "\n",
        "Encapsulation, on the other hand, is about bundling data and methods together within a class, hiding the internal state and implementation details from external access. Encapsulation provides data protection and ensures that objects are accessed and modified only through defined methods, maintaining data integrity and providing control over access to the object's properties."
      ],
      "metadata": {
        "id": "5eqVv27qJKTm"
      }
    },
    {
      "cell_type": "code",
      "source": [
        "# Abstraction\n",
        "\n",
        "from abc import ABC, abstractmethod\n",
        "\n",
        "class Shape(ABC):\n",
        "    @abstractmethod\n",
        "    def calculate_area(self):\n",
        "        pass\n",
        "\n",
        "class Rectangle(Shape):\n",
        "    def __init__(self, width, height):\n",
        "        self._width = width\n",
        "        self._height = height\n",
        "\n",
        "    def calculate_area(self):\n",
        "        return self._width * self._height\n",
        "\n",
        "class Circle(Shape):\n",
        "    def __init__(self, radius):\n",
        "        self._radius = radius\n",
        "\n",
        "    def calculate_area(self):\n",
        "        return 3.14 * self._radius ** 2\n",
        "\n",
        "# Usage:\n",
        "rectangle = Rectangle(5, 3)\n",
        "print(rectangle.calculate_area())  # Output: 15\n",
        "\n",
        "circle = Circle(7)\n",
        "print(circle.calculate_area())  # Output: 153.86\n"
      ],
      "metadata": {
        "colab": {
          "base_uri": "https://localhost:8080/"
        },
        "id": "PCjh6IrVI1FU",
        "outputId": "9ebfffc9-fc34-430e-f5f5-0ab39020a0ab"
      },
      "execution_count": 5,
      "outputs": [
        {
          "output_type": "stream",
          "name": "stdout",
          "text": [
            "15\n",
            "153.86\n"
          ]
        }
      ]
    },
    {
      "cell_type": "code",
      "source": [
        "# Encapsulation\n",
        "\n",
        "class BankAccount:\n",
        "    def __init__(self, account_number, balance):\n",
        "        self._account_number = account_number\n",
        "        self._balance = balance\n",
        "\n",
        "    def deposit(self, amount):\n",
        "        self._balance += amount\n",
        "\n",
        "    def withdraw(self, amount):\n",
        "        if amount <= self._balance:\n",
        "            self._balance -= amount\n",
        "        else:\n",
        "            print(\"Insufficient balance.\")\n",
        "\n",
        "    def get_balance(self):\n",
        "        return self._balance\n",
        "\n",
        "# Usage:\n",
        "account = BankAccount(\"1234567890\", 1000)\n",
        "account.deposit(500)\n",
        "account.withdraw(200)\n",
        "print(account.get_balance())  # Output: 1300\n"
      ],
      "metadata": {
        "colab": {
          "base_uri": "https://localhost:8080/"
        },
        "id": "XaJ4E_1VJRx8",
        "outputId": "1c8716ef-5ff5-4a99-fee7-934dc2094013"
      },
      "execution_count": 6,
      "outputs": [
        {
          "output_type": "stream",
          "name": "stdout",
          "text": [
            "1300\n"
          ]
        }
      ]
    },
    {
      "cell_type": "markdown",
      "source": [
        "Q3. What is abc module in python? Why is it used?\""
      ],
      "metadata": {
        "id": "jmD-n2EsJbkq"
      }
    },
    {
      "cell_type": "markdown",
      "source": [
        "The abc module in Python stands for \"Abstract Base Classes.\" It provides infrastructure for defining abstract base classes, which are classes that cannot be instantiated directly but serve as a template for subclasses.\n",
        "\n",
        "The abc module is used to create abstract classes by using the ABC (Abstract Base Class) as a metaclass or by using the @abstractmethod decorator to declare abstract methods. Abstract classes can define a common interface and enforce specific method implementations in their subclasses.\n",
        "\n",
        "The abc module is used to achieve abstraction and define abstract base classes, ensuring that certain methods must be implemented by the subclasses. It helps in defining and maintaining a clear hierarchy of classes with shared behavior and structure."
      ],
      "metadata": {
        "id": "adSQ-ASsJnW0"
      }
    },
    {
      "cell_type": "markdown",
      "source": [
        "Q4. How can we achieve data abstraction?\n",
        "\n",
        "Data abstraction in OOP refers to the concept of hiding internal implementation details and exposing only essential information or interfaces to interact with the data. It allows the user to interact with the data through well-defined methods or functions while keeping the underlying implementation hidden.\n",
        "\n",
        "In Python, data abstraction can be achieved by using classes and encapsulation. The internal data and implementation details are encapsulated within the class, and access to the data is provided through methods or properties. By defining getter and setter methods, we can control how data is accessed and modified, ensuring data integrity and abstraction.\n",
        "\n"
      ],
      "metadata": {
        "id": "AmpIwsOnJ34V"
      }
    },
    {
      "cell_type": "code",
      "source": [
        "class BankAccount:\n",
        "    def __init__(self, account_number, balance):\n",
        "        self._account_number = account_number\n",
        "        self._balance = balance\n",
        "\n",
        "    def get_account_number(self):\n",
        "        return self._account_number\n",
        "\n",
        "    def get_balance(self):\n",
        "        return self._balance\n",
        "\n",
        "    def deposit(self, amount):\n",
        "        self._balance += amount\n",
        "\n",
        "    def withdraw(self, amount):\n",
        "        if amount <= self._balance:\n",
        "            self._balance -= amount\n",
        "        else:\n",
        "            print(\"Insufficient balance.\")\n"
      ],
      "metadata": {
        "id": "iCgPe1_PJmSb"
      },
      "execution_count": 8,
      "outputs": []
    },
    {
      "cell_type": "markdown",
      "source": [
        "In this example, the BankAccount class encapsulates the account number and balance as private variables (_account_number and _balance). It provides getter methods (get_account_number() and get_balance()) to access the data. The class also provides methods (deposit() and withdraw()) to modify the balance. By encapsulating the data and exposing only the necessary methods, data abstraction is achieved."
      ],
      "metadata": {
        "id": "OZr3exKyJ-ru"
      }
    },
    {
      "cell_type": "markdown",
      "source": [
        "Q5. Can we create an instance of an abstract class? Explain your answer.\n",
        "\n",
        "No, we cannot create an instance of an abstract class in Python. An abstract class is a class that cannot be instantiated directly. It serves as a blueprint for other classes and provides a common interface or structure that its subclasses must adhere to.\n",
        "\n",
        "In Python, abstract classes are created using the abc module and the ABC metaclass. An abstract class typically contains one or more abstract methods that do not have an implementation in the abstract class itself. These abstract methods must be implemented by the concrete subclasses.\n",
        "\n",
        "To create an object of a class, it must be a concrete class that provides complete implementation, including the abstract methods inherited from the abstract class. The purpose of an abstract class is to define a common structure and behavior for its subclasses but not to be instantiated directly."
      ],
      "metadata": {
        "id": "TzedpSKTKCJo"
      }
    }
  ]
}