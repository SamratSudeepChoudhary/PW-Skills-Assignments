{
  "nbformat": 4,
  "nbformat_minor": 0,
  "metadata": {
    "colab": {
      "provenance": []
    },
    "kernelspec": {
      "name": "python3",
      "display_name": "Python 3"
    },
    "language_info": {
      "name": "python"
    }
  },
  "cells": [
    {
      "cell_type": "code",
      "execution_count": 3,
      "metadata": {
        "id": "VD6Vv6N9RZ6G"
      },
      "outputs": [],
      "source": [
        "from IPython.core.interactiveshell import InteractiveShell\n",
        "InteractiveShell.ast_node_interactivity = \"all\""
      ]
    },
    {
      "cell_type": "markdown",
      "source": [
        "Q1) What is multithreading in Python? Why is it used? Name the module used to handle threads in Python. Why is the threading module used?\n",
        "\n",
        "Multithreading in Python refers to the ability of a program to execute multiple threads concurrently, where each thread represents a separate flow of execution. It allows different parts of a program to run independently and concurrently, thereby improving performance and responsiveness in certain scenarios. Multithreading is used to achieve parallelism, handle concurrent tasks, and optimize resource utilization.\n",
        "\n",
        "The threading module in Python is used to handle threads. It provides a high-level interface for creating and managing threads in a Python program. It encapsulates the low-level thread management details and provides convenient methods and functions to work with threads."
      ],
      "metadata": {
        "id": "2sK0OZY6Rv32"
      }
    },
    {
      "cell_type": "markdown",
      "source": [
        "Q2) Write the use of the following functions in the threading module:\n",
        "\n",
        "activeCount(): This function returns the number of Thread objects currently alive.\n",
        "\n",
        "currentThread(): This function returns the current Thread object, corresponding to the caller's thread of execution.\n",
        "\n",
        "enumerate(): This function returns a list of all Thread objects currently alive.\n",
        "These functions are useful for obtaining information about the active threads in a Python program."
      ],
      "metadata": {
        "id": "iZpwK5aCR8Hy"
      }
    },
    {
      "cell_type": "markdown",
      "source": [
        "Q3) Explain the following functions in the threading module:\n",
        "\n",
        "run(): This method defines the entry point for the thread's execution. It is meant to be overridden in a subclass to specify the code to be executed by the thread.\n",
        "\n",
        "start(): This method starts the execution of the thread. It launches a new thread and calls the run() method internally.\n",
        "\n",
        "join(): This method blocks the calling thread until the thread on which it is called completes its execution.\n",
        "\n",
        "isAlive(): This method returns a boolean value indicating whether the thread is currently alive (i.e., has been started but not yet terminated).\n",
        "\n",
        "These functions and methods are used to control the execution, synchronization, and coordination of threads in a Python program."
      ],
      "metadata": {
        "id": "mHBthgUCSK91"
      }
    },
    {
      "cell_type": "markdown",
      "source": [
        "Q4) Write a Python program to create two threads. Thread one must print the list of squares and thread two must print the list of cubes."
      ],
      "metadata": {
        "id": "CGkDiMX0SYZg"
      }
    },
    {
      "cell_type": "code",
      "source": [
        "import threading\n",
        "\n",
        "def print_squares():\n",
        "    for i in range(1, 6):\n",
        "        print(f\"Square of {i}: {i*i}\")\n",
        "\n",
        "def print_cubes():\n",
        "    for i in range(1, 6):\n",
        "        print(f\"Cube of {i}: {i*i*i}\")\n",
        "\n",
        "thread1 = threading.Thread(target=print_squares)\n",
        "thread2 = threading.Thread(target=print_cubes)\n",
        "\n",
        "thread1.start()\n",
        "thread2.start()\n",
        "\n",
        "thread1.join()\n",
        "thread2.join()\n"
      ],
      "metadata": {
        "colab": {
          "base_uri": "https://localhost:8080/"
        },
        "id": "UsTLol06RniG",
        "outputId": "ae667dc4-069b-4435-c202-46121d004fd4"
      },
      "execution_count": 2,
      "outputs": [
        {
          "output_type": "stream",
          "name": "stdout",
          "text": [
            "Square of 1: 1\n",
            "Square of 2: 4\n",
            "Square of 3: 9\n",
            "Square of 4: 16\n",
            "Square of 5: 25\n",
            "Cube of 1: 1\n",
            "Cube of 2: 8\n",
            "Cube of 3: 27\n",
            "Cube of 4: 64\n",
            "Cube of 5: 125\n"
          ]
        }
      ]
    },
    {
      "cell_type": "markdown",
      "source": [
        "Q5) Advantages and disadvantages of multithreading:\n",
        "\n",
        "Advantages:\n",
        "\n",
        "Improved performance and responsiveness: Multithreading allows concurrent execution of multiple tasks, leading to better utilization of system resources and improved performance.\n",
        "Enhanced concurrency: Multithreading enables multiple parts of a program to run concurrently, making it easier to handle tasks that require parallel processing or simultaneous execution.\n",
        "Simplified programming: Multithreading provides a higher level of abstraction, allowing developers to write code that leverages concurrent execution without dealing with complex low-level details.\n",
        "Disadvantages:\n",
        "\n",
        "Complexity: Multithreading introduces complexity due to issues like synchronization, race conditions, and deadlocks. It requires careful design and consideration to handle shared resources and ensure thread safety.\n",
        "Increased resource consumption: Multithreading can lead to increased resource consumption, such as higher memory usage and CPU overhead, especially if not managed efficiently.\n",
        "Difficult debugging: Debugging multithreaded programs can be challenging, as issues like race conditions and deadlocks may not always be reproducible or easily detectable."
      ],
      "metadata": {
        "id": "ZH6ctaxFSjzr"
      }
    },
    {
      "cell_type": "markdown",
      "source": [
        "Q6) Explain deadlocks and race conditions:\n",
        "\n",
        "Deadlock: Deadlock occurs when two or more threads are blocked forever, waiting for each other to release resources that they hold. It typically happens when multiple threads acquire locks on resources in different orders and then try to acquire additional locks while holding the existing ones. As a result, the threads end up waiting indefinitely for each other, leading to a program freeze or deadlock state.\n",
        "\n",
        "Race condition: A race condition occurs when multiple threads access and manipulate shared data concurrently, leading to unpredictable or incorrect behavior. It arises when the outcome of the program depends on the relative timing or interleaving of thread execution. Race conditions can result in data corruption, inconsistent state, or unexpected behavior.\n",
        "\n",
        "Both deadlocks and race conditions are common issues in multithreaded programming and require careful handling through proper synchronization techniques, such as locks, semaphores, and condition variables, to ensure correct and predictable behavior of the program.\n",
        "\n",
        "\n",
        "\n",
        "\n"
      ],
      "metadata": {
        "id": "jMJ6NXI0SpE-"
      }
    },
    {
      "cell_type": "code",
      "source": [],
      "metadata": {
        "id": "W-GwuEoGSXJl"
      },
      "execution_count": null,
      "outputs": []
    }
  ]
}