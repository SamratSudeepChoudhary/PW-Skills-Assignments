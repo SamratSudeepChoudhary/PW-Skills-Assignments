{
  "nbformat": 4,
  "nbformat_minor": 0,
  "metadata": {
    "colab": {
      "provenance": []
    },
    "kernelspec": {
      "name": "python3",
      "display_name": "Python 3"
    },
    "language_info": {
      "name": "python"
    }
  },
  "cells": [
    {
      "cell_type": "code",
      "execution_count": 13,
      "metadata": {
        "id": "cielPZ5fhiNd"
      },
      "outputs": [],
      "source": [
        "from IPython.core.interactiveshell import InteractiveShell\n",
        "InteractiveShell.ast_node_interactivity = \"all\""
      ]
    },
    {
      "cell_type": "code",
      "source": [
        "import numpy as np\n",
        "list_ = [ '1' , '2' , '3' , '4' , '5' ]\n",
        "array_list = np.array(object = list_)"
      ],
      "metadata": {
        "id": "9J7z9aa6htek"
      },
      "execution_count": 4,
      "outputs": []
    },
    {
      "cell_type": "markdown",
      "source": [
        "Q1. Is there any difference in the data type of variables list_ and array_list? If there is then write a code to print the data types of both the variables.\n",
        "\n",
        "Yes, there is a difference in the data type of variables list_ and array_list. The variable list_ is a Python list containing string elements, while the variable array_list is a NumPy array with a data type inferred from the elements of the list."
      ],
      "metadata": {
        "id": "YMTm9g1Wh55b"
      }
    },
    {
      "cell_type": "code",
      "source": [
        "print(type(list_[0]))\n",
        "print(array_list.dtype)"
      ],
      "metadata": {
        "colab": {
          "base_uri": "https://localhost:8080/"
        },
        "id": "7zOTPauuh2G5",
        "outputId": "b4d59aed-528b-40f0-b31d-c49ff859d063"
      },
      "execution_count": 5,
      "outputs": [
        {
          "output_type": "stream",
          "name": "stdout",
          "text": [
            "<class 'str'>\n",
            "<U1\n"
          ]
        }
      ]
    },
    {
      "cell_type": "markdown",
      "source": [
        "Q2. Write a code to print the data type of each and every element of both the variables list_ and array_list."
      ],
      "metadata": {
        "id": "HPTi5eAdiOrg"
      }
    },
    {
      "cell_type": "code",
      "source": [
        "# For list_\n",
        "for element in list_:\n",
        "    print(type(element))\n",
        "\n",
        "# For array_list\n",
        "for element in np.nditer(array_list):\n",
        "    print(element.dtype)\n"
      ],
      "metadata": {
        "colab": {
          "base_uri": "https://localhost:8080/"
        },
        "id": "isVYuuvEiHWj",
        "outputId": "91a9c0e7-1ec4-48ac-a01a-4b7dd79a46ab"
      },
      "execution_count": 6,
      "outputs": [
        {
          "output_type": "stream",
          "name": "stdout",
          "text": [
            "<class 'str'>\n",
            "<class 'str'>\n",
            "<class 'str'>\n",
            "<class 'str'>\n",
            "<class 'str'>\n",
            "<U1\n",
            "<U1\n",
            "<U1\n",
            "<U1\n",
            "<U1\n"
          ]
        }
      ]
    },
    {
      "cell_type": "markdown",
      "source": [
        "Q3. Considering the following changes in the variable array_list: array_list = np.array(object = list_, dtype = int) Will there be any difference in the data type of the elements present in both the variables, list_ and array_list? If so then print the data types of each and every element present in both the variables, list_ and array_list."
      ],
      "metadata": {
        "id": "5pTsy2wCiWDL"
      }
    },
    {
      "cell_type": "code",
      "source": [
        "array_list = np.array(object = list_, dtype = int)"
      ],
      "metadata": {
        "id": "3V8L71s5iQWz"
      },
      "execution_count": 7,
      "outputs": []
    },
    {
      "cell_type": "markdown",
      "source": [
        "Yes, there will be a difference in the data type of the elements present in both variables. When creating array_list with the dtype=int, the elements will be converted to integers."
      ],
      "metadata": {
        "id": "OX8fvrfwitqo"
      }
    },
    {
      "cell_type": "code",
      "source": [
        "# For list_\n",
        "for element in list_:\n",
        "    print(type(element))\n",
        "\n",
        "# For array_list\n",
        "for element in np.nditer(array_list):\n",
        "    print(element.dtype)\n"
      ],
      "metadata": {
        "colab": {
          "base_uri": "https://localhost:8080/"
        },
        "id": "DR800uvJiiQb",
        "outputId": "f524d328-5294-4e68-cac8-2179aaab23ee"
      },
      "execution_count": 8,
      "outputs": [
        {
          "output_type": "stream",
          "name": "stdout",
          "text": [
            "<class 'str'>\n",
            "<class 'str'>\n",
            "<class 'str'>\n",
            "<class 'str'>\n",
            "<class 'str'>\n",
            "int64\n",
            "int64\n",
            "int64\n",
            "int64\n",
            "int64\n"
          ]
        }
      ]
    },
    {
      "cell_type": "code",
      "source": [
        "import numpy as np\n",
        "num_list = [ [ 1 , 2 , 3 ] , [ 4 , 5 , 6 ] ]\n",
        "num_array = np.array(object = num_list)"
      ],
      "metadata": {
        "id": "OxdLDasEi2rR"
      },
      "execution_count": 9,
      "outputs": []
    },
    {
      "cell_type": "markdown",
      "source": [
        "Q4. Write a code to find the following characteristics of variable, num_array:\n",
        "(i) shape\n",
        "(ii) size"
      ],
      "metadata": {
        "id": "3aBCjLsyi2bC"
      }
    },
    {
      "cell_type": "code",
      "source": [
        "# (i) shape\n",
        "print(num_array.shape)\n",
        "\n",
        "# (ii) size\n",
        "print(num_array.size)\n"
      ],
      "metadata": {
        "colab": {
          "base_uri": "https://localhost:8080/"
        },
        "id": "dUB2fQ4Ei-Su",
        "outputId": "04bd32c4-0397-41e0-f151-62b060fe18a9"
      },
      "execution_count": 10,
      "outputs": [
        {
          "output_type": "stream",
          "name": "stdout",
          "text": [
            "(2, 3)\n",
            "6\n"
          ]
        }
      ]
    },
    {
      "cell_type": "markdown",
      "source": [
        "Q5. Write a code to create numpy array of 3*3 matrix containing zeros only, using a numpy array\n",
        "creation function.\n",
        "[Hint: The size of the array will be 9 and the shape will be (3,3).]"
      ],
      "metadata": {
        "id": "o9PcA7eWizJJ"
      }
    },
    {
      "cell_type": "code",
      "source": [
        "zeros_array = np.zeros((3, 3))\n",
        "print(zeros_array)\n"
      ],
      "metadata": {
        "colab": {
          "base_uri": "https://localhost:8080/"
        },
        "id": "1cpLzDYXivWY",
        "outputId": "5136b56e-6c43-4f69-80c8-e339716312af"
      },
      "execution_count": 11,
      "outputs": [
        {
          "output_type": "stream",
          "name": "stdout",
          "text": [
            "[[0. 0. 0.]\n",
            " [0. 0. 0.]\n",
            " [0. 0. 0.]]\n"
          ]
        }
      ]
    },
    {
      "cell_type": "markdown",
      "source": [
        "Q6. Create an identity matrix of shape (5, 5) using numpy functions."
      ],
      "metadata": {
        "id": "krg2yF2njE1X"
      }
    },
    {
      "cell_type": "code",
      "source": [
        "identity_matrix = np.eye(5)\n",
        "print(identity_matrix)\n"
      ],
      "metadata": {
        "colab": {
          "base_uri": "https://localhost:8080/"
        },
        "id": "RvotMLY5jEGp",
        "outputId": "937d91e8-a20b-4d73-be70-8f02a97d8a97"
      },
      "execution_count": 12,
      "outputs": [
        {
          "output_type": "stream",
          "name": "stdout",
          "text": [
            "[[1. 0. 0. 0. 0.]\n",
            " [0. 1. 0. 0. 0.]\n",
            " [0. 0. 1. 0. 0.]\n",
            " [0. 0. 0. 1. 0.]\n",
            " [0. 0. 0. 0. 1.]]\n"
          ]
        }
      ]
    },
    {
      "cell_type": "code",
      "source": [],
      "metadata": {
        "id": "QbEil0COjLIV"
      },
      "execution_count": null,
      "outputs": []
    }
  ]
}