{
  "nbformat": 4,
  "nbformat_minor": 0,
  "metadata": {
    "colab": {
      "provenance": []
    },
    "kernelspec": {
      "name": "python3",
      "display_name": "Python 3"
    },
    "language_info": {
      "name": "python"
    }
  },
  "cells": [
    {
      "cell_type": "code",
      "execution_count": 2,
      "metadata": {
        "id": "tAjD-9vO3K9I"
      },
      "outputs": [],
      "source": [
        "from IPython.core.interactiveshell import InteractiveShell\n",
        "InteractiveShell.ast_node_interactivity = \"all\""
      ]
    },
    {
      "cell_type": "markdown",
      "source": [
        "Q1, Create a vehicle class with an init method having instance variables as name_of_vehicle, max_speed\n",
        "and average_of_vehicle."
      ],
      "metadata": {
        "id": "E_zUQvHq64kv"
      }
    },
    {
      "cell_type": "code",
      "source": [
        "class Vehicle:\n",
        "    def __init__(self, name_of_vehicle, max_speed, average_of_vehicle):\n",
        "        self.name_of_vehicle = name_of_vehicle\n",
        "        self.max_speed = max_speed\n",
        "        self.average_of_vehicle = average_of_vehicle\n"
      ],
      "metadata": {
        "id": "Ae0Kr6eC3XiJ"
      },
      "execution_count": 3,
      "outputs": []
    },
    {
      "cell_type": "markdown",
      "source": [
        "Q2. Create a child class car from the vehicle class created in Que 1, which will inherit the vehicle class.\n",
        "Create a method named seating_capacity which takes capacity as an argument and returns the name of\n",
        "the vehicle and its seating capacity."
      ],
      "metadata": {
        "id": "jN3vdpX38nnF"
      }
    },
    {
      "cell_type": "code",
      "source": [
        "class Car(Vehicle):\n",
        "    def seating_capacity(self, capacity):\n",
        "        return f\"{self.name_of_vehicle} has a seating capacity of {capacity} people.\"\n"
      ],
      "metadata": {
        "id": "f40zoSo27FEi"
      },
      "execution_count": 5,
      "outputs": []
    },
    {
      "cell_type": "code",
      "source": [
        "car = Car(\"Sedan\", 180, 35)\n",
        "print(car.seating_capacity(4))  # Output: Sedan has a seating capacity of 4 people.\n"
      ],
      "metadata": {
        "id": "ORUQ-thQ8m08",
        "colab": {
          "base_uri": "https://localhost:8080/"
        },
        "outputId": "4db2ff1c-b2d0-4cf0-f79c-865f5f703f5f"
      },
      "execution_count": 6,
      "outputs": [
        {
          "output_type": "stream",
          "name": "stdout",
          "text": [
            "Sedan has a seating capacity of 4 people.\n"
          ]
        }
      ]
    },
    {
      "cell_type": "markdown",
      "source": [
        "Q3. What is multiple inheritance? Write a python code to demonstrate multiple inheritance."
      ],
      "metadata": {
        "id": "pzS87OesBJb_"
      }
    },
    {
      "cell_type": "markdown",
      "source": [
        " Multiple inheritance is a feature in object-oriented programming where a class can inherit properties and methods from multiple parent classes."
      ],
      "metadata": {
        "id": "Og91T4vqBSzD"
      }
    },
    {
      "cell_type": "code",
      "source": [
        "class A:\n",
        "    def method_a(self):\n",
        "        print(\"Method A\")\n",
        "\n",
        "class B:\n",
        "    def method_b(self):\n",
        "        print(\"Method B\")\n",
        "\n",
        "class C(A, B):\n",
        "    def method_c(self):\n",
        "        print(\"Method C\")\n",
        "\n",
        "obj = C()\n",
        "obj.method_a()  # Output: Method A\n",
        "obj.method_b()  # Output: Method B\n",
        "obj.method_c()  # Output: Method C\n"
      ],
      "metadata": {
        "colab": {
          "base_uri": "https://localhost:8080/"
        },
        "id": "Ry39--OpAxGI",
        "outputId": "c4308489-64e8-408c-85bd-d29ae8ed3af9"
      },
      "execution_count": 7,
      "outputs": [
        {
          "output_type": "stream",
          "name": "stdout",
          "text": [
            "Method A\n",
            "Method B\n",
            "Method C\n"
          ]
        }
      ]
    },
    {
      "cell_type": "markdown",
      "source": [
        "Q4. What are getter and setter in python? Create a class and create a getter and a setter method in this\n",
        "class."
      ],
      "metadata": {
        "id": "cxtKTGa8Bc6M"
      }
    },
    {
      "cell_type": "code",
      "source": [
        "class Person:\n",
        "    def __init__(self, name):\n",
        "        self._name = name\n",
        "\n",
        "    def get_name(self):\n",
        "        return self._name\n",
        "\n",
        "    def set_name(self, new_name):\n",
        "        self._name = new_name\n"
      ],
      "metadata": {
        "id": "Sj4f_7RtBYAf"
      },
      "execution_count": 8,
      "outputs": []
    },
    {
      "cell_type": "code",
      "source": [
        "person = Person(\"Alice\")\n",
        "print(person.get_name())  # Output: Alice\n",
        "\n",
        "person.set_name(\"Bob\")\n",
        "print(person.get_name())  # Output: Bob\n"
      ],
      "metadata": {
        "colab": {
          "base_uri": "https://localhost:8080/"
        },
        "id": "mLCxCpP9Bfwa",
        "outputId": "e1a083ce-edd5-44b3-fe0a-c04880802be5"
      },
      "execution_count": 9,
      "outputs": [
        {
          "output_type": "stream",
          "name": "stdout",
          "text": [
            "Alice\n",
            "Bob\n"
          ]
        }
      ]
    },
    {
      "cell_type": "markdown",
      "source": [
        "Q5.What is method overriding in python? Write a python code to demonstrate method overriding."
      ],
      "metadata": {
        "id": "wC2hoKDFBx1p"
      }
    },
    {
      "cell_type": "markdown",
      "source": [
        "Method overriding is a feature in object-oriented programming where a subclass provides its own implementation of a method that is already defined in its parent class."
      ],
      "metadata": {
        "id": "ULV0gW4PB9gI"
      }
    },
    {
      "cell_type": "code",
      "source": [
        "class Shape:\n",
        "    def area(self):\n",
        "        print(\"This is the area method in the Shape class.\")\n",
        "\n",
        "class Rectangle(Shape):\n",
        "    def area(self):\n",
        "        print(\"This is the area method in the Rectangle class.\")\n",
        "\n",
        "shape = Shape()\n",
        "shape.area()  # Output: This is the area method in the Shape class.\n",
        "\n",
        "rectangle = Rectangle()\n",
        "rectangle.area()  # Output: This is the area method in the Rectangle class.\n"
      ],
      "metadata": {
        "colab": {
          "base_uri": "https://localhost:8080/"
        },
        "id": "sV-ra9LOBj75",
        "outputId": "023d7123-211e-4fed-adff-27bc4cac5906"
      },
      "execution_count": 10,
      "outputs": [
        {
          "output_type": "stream",
          "name": "stdout",
          "text": [
            "This is the area method in the Shape class.\n",
            "This is the area method in the Rectangle class.\n"
          ]
        }
      ]
    },
    {
      "cell_type": "code",
      "source": [],
      "metadata": {
        "id": "XUHpId41B92T"
      },
      "execution_count": null,
      "outputs": []
    }
  ]
}