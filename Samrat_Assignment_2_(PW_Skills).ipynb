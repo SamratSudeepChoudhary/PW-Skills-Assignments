{
  "nbformat": 4,
  "nbformat_minor": 0,
  "metadata": {
    "colab": {
      "provenance": []
    },
    "kernelspec": {
      "name": "python3",
      "display_name": "Python 3"
    },
    "language_info": {
      "name": "python"
    }
  },
  "cells": [
    {
      "cell_type": "code",
      "source": [
        "from IPython.core.interactiveshell import InteractiveShell\n",
        "InteractiveShell.ast_node_interactivity = \"all\""
      ],
      "metadata": {
        "id": "PRiBSnDlntWt"
      },
      "execution_count": 6,
      "outputs": []
    },
    {
      "cell_type": "markdown",
      "source": [
        "Q1. How do you comment code in Python? What are the different types of comments?"
      ],
      "metadata": {
        "id": "WRXH5GdtlhAd"
      }
    },
    {
      "cell_type": "markdown",
      "source": [
        "Single-line comments: Single-line comments start with the # symbol and continue until the end of the line. They are used to comment on a single line of code."
      ],
      "metadata": {
        "id": "v_SYTn4QlrUr"
      }
    },
    {
      "cell_type": "code",
      "source": [
        "# This is a single-line comment\n",
        "x = 5  # This comment explains the purpose of this line"
      ],
      "metadata": {
        "id": "v5-pkyQ8lhmM"
      },
      "execution_count": 1,
      "outputs": []
    },
    {
      "cell_type": "markdown",
      "source": [
        "Multi-line comments: Multi-line comments, also known as docstrings, are used to write longer comments that span multiple lines. They are enclosed between triple quotes (\"\"\" or ''') and are commonly used to provide documentation for functions, modules, or classes."
      ],
      "metadata": {
        "id": "9BRVMaDFl7AV"
      }
    },
    {
      "cell_type": "code",
      "source": [
        "'''\n",
        "This is a multi-line comment or docstring.\n",
        "It can span multiple lines and is commonly used for documentation.\n",
        "'''\n",
        "\n",
        "def add(a, b):\n",
        "    \"\"\"\n",
        "    This function adds two numbers and returns the result.\n",
        "    \"\"\"\n",
        "    return a + b"
      ],
      "metadata": {
        "id": "0_v2qfI9l72n"
      },
      "execution_count": 3,
      "outputs": []
    },
    {
      "cell_type": "markdown",
      "source": [
        "Q2. What are variables in Python? How do you declare and assign values to variables?"
      ],
      "metadata": {
        "id": "MSnOY_wbmTGd"
      }
    },
    {
      "cell_type": "markdown",
      "source": [
        "\n",
        "Variables in Python are used to store and manipulate data. They act as containers that hold values of different types, such as numbers, strings, or objects. Variables provide a way to reference and access data throughout a program."
      ],
      "metadata": {
        "id": "8p1MtIpPmmZb"
      }
    },
    {
      "cell_type": "code",
      "source": [
        "# Declare and assign a value to the variable 'x'\n",
        "x = 5\n",
        "\n",
        "# Declare and assign a string value to the variable 'name'\n",
        "name = \"John Doe\"\n",
        "\n",
        "# Declare and assign a list of numbers to the variable 'numbers'\n",
        "numbers = [1, 2, 3, 4, 5]"
      ],
      "metadata": {
        "id": "hc4Q7Vn8mUzv"
      },
      "execution_count": 4,
      "outputs": []
    },
    {
      "cell_type": "markdown",
      "source": [
        "In the above code, we declare variables x, name, and numbers and assign them values of different types. The equal sign (=) is the assignment operator used to assign the value on the right side to the variable on the left side.\n",
        "\n",
        "Variables in Python are dynamically typed, meaning their type is inferred from the assigned value. You don't need to explicitly specify the type of the variable during declaration.\n",
        "\n",
        "Variables can also be reassigned with new values."
      ],
      "metadata": {
        "id": "9R_N-eTTm9aM"
      }
    },
    {
      "cell_type": "code",
      "source": [
        "x = 5  # Initial assignment\n",
        "x = 10  # Reassignment with a new value"
      ],
      "metadata": {
        "id": "qIYqcnFsnAfJ"
      },
      "execution_count": 5,
      "outputs": []
    },
    {
      "cell_type": "markdown",
      "source": [
        "In this case, the variable x is initially assigned the value 5, and then it is reassigned with the value 10. After reassignment, x will hold the new value.\n",
        "\n",
        "It's important to note that variable names in Python are case-sensitive, meaning x and X would be considered as different variables. Also, variable names should follow certain naming conventions, such as starting with a letter or underscore, and they cannot be reserved keywords in Python."
      ],
      "metadata": {
        "id": "R8wjxuxGnJrH"
      }
    },
    {
      "cell_type": "markdown",
      "source": [
        "Q3. How do you convert one data type to another in Python?"
      ],
      "metadata": {
        "id": "U-TKQnkZnoQh"
      }
    },
    {
      "cell_type": "code",
      "source": [
        "num_float = 3.14\n",
        "num_int = int(num_float)  # Converts 3.14 to 3\n",
        "\n",
        "num_str = \"10\"\n",
        "num_int = int(num_str)  # Converts \"10\" to 10\n",
        "\n",
        "num_int = 5\n",
        "num_float = float(num_int)  # Converts 5 to 5.0\n",
        "\n",
        "num_str = \"3.14\"\n",
        "num_float = float(num_str)  # Converts \"3.14\" to 3.14\n",
        "\n",
        "num_int = 10\n",
        "num_str = str(num_int)  # Converts 10 to \"10\"\n",
        "\n",
        "num_float = 3.14\n",
        "num_str = str(num_float)  # Converts 3.14 to \"3.14\"\n",
        "\n",
        "my_str = \"Hello\"\n",
        "my_list = list(my_str)  # Converts \"Hello\" to ['H', 'e', 'l', 'l', 'o']\n",
        "\n",
        "my_tuple = tuple(my_list)  # Converts ['H', 'e', 'l', 'l', 'o'] to ('H', 'e', 'l', 'l', 'o')\n",
        "\n",
        "my_set = set(my_list)  # Converts ['H', 'e', 'l', 'l', 'o'] to {'H', 'e', 'l', 'o'}\n",
        "\n",
        "my_dict = dict(zip(my_list, range(len(my_list))))  # Converts ['H', 'e', 'l', 'l', 'o'] to {'H': 0, 'e': 1, 'l': 2, 'o': 3}"
      ],
      "metadata": {
        "id": "bk5_7JctnLYX"
      },
      "execution_count": 8,
      "outputs": []
    },
    {
      "cell_type": "markdown",
      "source": [
        "Q4. How do you write and execute a Python script from the command line?"
      ],
      "metadata": {
        "id": "4JCo0Lklotec"
      }
    },
    {
      "cell_type": "markdown",
      "source": [
        "To write and execute a Python script from the command line:\n",
        "\n",
        "1. Create a new file and save it with a `.py` extension, for example, `script.py`.\n",
        "\n",
        "2. Open the command line or terminal.\n",
        "\n",
        "3. Navigate to the directory where the script is saved using the `cd` command.\n",
        "\n",
        "4. Execute the script by running the command `python script.py` or `python3 script.py` if you have multiple Python versions installed.\n",
        "\n",
        "5. The output of the script, if any, will be displayed in the command line."
      ],
      "metadata": {
        "id": "gJznUvt9onwD"
      }
    },
    {
      "cell_type": "markdown",
      "source": [
        "Q5. Given a list my_list = [1, 2, 3, 4, 5], write the code to slice the list and obtain the sub-list [2, 3]."
      ],
      "metadata": {
        "id": "4bdbkAPIpOIy"
      }
    },
    {
      "cell_type": "code",
      "source": [
        "my_list = [1, 2, 3, 4, 5]\n",
        "sub_list = my_list[1:3]\n",
        "\n",
        "print(sub_list)"
      ],
      "metadata": {
        "colab": {
          "base_uri": "https://localhost:8080/"
        },
        "id": "1HbqxaqRnrKz",
        "outputId": "e71a583c-a3b6-42c8-89b8-2a768c0c72d9"
      },
      "execution_count": 9,
      "outputs": [
        {
          "output_type": "stream",
          "name": "stdout",
          "text": [
            "[2, 3]\n"
          ]
        }
      ]
    },
    {
      "cell_type": "markdown",
      "source": [
        "Q6. What is a complex number in mathematics, and how is it represented in Python?"
      ],
      "metadata": {
        "id": "pCv71xu3p8Rg"
      }
    },
    {
      "cell_type": "markdown",
      "source": [
        "\n",
        "In mathematics, a complex number is a number that comprises both a real part and an imaginary part. It is represented in the form a + bi, where a is the real part and b is the imaginary part. The imaginary part is multiplied by the imaginary unit i, which is defined as the square root of -1.\n",
        "\n",
        "In Python, complex numbers are also supported as a built-in data type. They are represented using the j or J suffix to denote the imaginary part. The real and imaginary parts can be integers, floats, or a combination of both."
      ],
      "metadata": {
        "id": "SIfytFo-p35k"
      }
    },
    {
      "cell_type": "code",
      "source": [
        "z = 3 + 2j\n",
        "print(z)  # Output: (3+2j)\n",
        "\n",
        "w = 4.5 - 1j\n",
        "print(w)  # Output: (4.5-1j)\n",
        "\n",
        "x = 2 + 0j  # A complex number with no imaginary part\n",
        "print(x)  # Output: (2+0j)"
      ],
      "metadata": {
        "colab": {
          "base_uri": "https://localhost:8080/"
        },
        "id": "E7m_kpkwnrVq",
        "outputId": "1f88fcbc-7f32-48aa-f2c5-37d266eeb28a"
      },
      "execution_count": 11,
      "outputs": [
        {
          "output_type": "stream",
          "name": "stdout",
          "text": [
            "(3+2j)\n",
            "(4.5-1j)\n",
            "(2+0j)\n"
          ]
        }
      ]
    },
    {
      "cell_type": "markdown",
      "source": [
        "Q7. What is the correct way to declare a variable named age and assign the value 25 to it?"
      ],
      "metadata": {
        "id": "N-LdSrRjqMo3"
      }
    },
    {
      "cell_type": "code",
      "source": [
        "age = 25"
      ],
      "metadata": {
        "id": "I4I7-koHnrkj"
      },
      "execution_count": 12,
      "outputs": []
    },
    {
      "cell_type": "markdown",
      "source": [
        "In this example, the variable age is declared on the left side of the assignment operator (=), and the value 25 is assigned to it on the right side. Python automatically infers the data type of the variable based on the assigned value, so there is no need to explicitly specify the data type.\n",
        "\n",
        "After executing this code, the variable age will hold the value 25 and can be used in subsequent operations or expressions."
      ],
      "metadata": {
        "id": "iIzrrvFXqq0m"
      }
    },
    {
      "cell_type": "markdown",
      "source": [
        "Q8. Declare a variable named price and assign the value 9.99 to it. What data type does this variable\n",
        "belong to?"
      ],
      "metadata": {
        "id": "jWxVzVSQqs9z"
      }
    },
    {
      "cell_type": "code",
      "source": [
        "price = 9.99\n",
        "\n",
        "print(type(price))"
      ],
      "metadata": {
        "colab": {
          "base_uri": "https://localhost:8080/"
        },
        "id": "sx1O2mIXqrNW",
        "outputId": "14b20878-4abe-487a-da20-53db2c497891"
      },
      "execution_count": 13,
      "outputs": [
        {
          "output_type": "stream",
          "name": "stdout",
          "text": [
            "<class 'float'>\n"
          ]
        }
      ]
    },
    {
      "cell_type": "markdown",
      "source": [
        "The variable named price assigned with the value 9.99 belongs to the data type called \"float\" in Python."
      ],
      "metadata": {
        "id": "dCC70nX2q4_q"
      }
    },
    {
      "cell_type": "markdown",
      "source": [
        "Q9. Create a variable named name and assign your full name to it as a string. How would you print the\n",
        "value of this variable?"
      ],
      "metadata": {
        "id": "msUWwowErZRA"
      }
    },
    {
      "cell_type": "code",
      "source": [
        "name = 'Choudhary Samrat Sudeep Smriti'\n",
        "\n",
        "print(name)\n",
        "print(type(price))"
      ],
      "metadata": {
        "colab": {
          "base_uri": "https://localhost:8080/"
        },
        "id": "OMalVt0pq5hw",
        "outputId": "96ca890c-a5d5-41cb-b6b1-ac06b1d98ae8"
      },
      "execution_count": 17,
      "outputs": [
        {
          "output_type": "stream",
          "name": "stdout",
          "text": [
            "Choudhary Samrat Sudeep Smriti\n",
            "<class 'float'>\n"
          ]
        }
      ]
    },
    {
      "cell_type": "markdown",
      "source": [
        "Q10. Given the string \"Hello, World!\", extract the substring \"World\"."
      ],
      "metadata": {
        "id": "-VT1lc5ir2Fr"
      }
    },
    {
      "cell_type": "code",
      "source": [
        "string = \"Hello, World!\"\n",
        "substring = string[7:12]\n",
        "\n",
        "print(substring)"
      ],
      "metadata": {
        "colab": {
          "base_uri": "https://localhost:8080/"
        },
        "id": "ksf0zD-Cq4MJ",
        "outputId": "a52ac8be-f5a9-45b6-e8dc-4ce68a7074ab"
      },
      "execution_count": 18,
      "outputs": [
        {
          "output_type": "stream",
          "name": "stdout",
          "text": [
            "World\n"
          ]
        }
      ]
    },
    {
      "cell_type": "markdown",
      "source": [
        "Q11. Create a variable named \"is_student\" and assign it a boolean value indicating whether you are\n",
        "currently a student or not."
      ],
      "metadata": {
        "id": "N4QUri0xsulR"
      }
    },
    {
      "cell_type": "code",
      "source": [
        "is_student = True"
      ],
      "metadata": {
        "id": "ZRyOe-LZssd_"
      },
      "execution_count": 20,
      "outputs": []
    }
  ]
}