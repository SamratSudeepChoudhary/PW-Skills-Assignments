{
  "nbformat": 4,
  "nbformat_minor": 0,
  "metadata": {
    "colab": {
      "provenance": []
    },
    "kernelspec": {
      "name": "python3",
      "display_name": "Python 3"
    },
    "language_info": {
      "name": "python"
    }
  },
  "cells": [
    {
      "cell_type": "code",
      "execution_count": 29,
      "metadata": {
        "id": "KwJppTghpTrM"
      },
      "outputs": [],
      "source": [
        "from IPython.core.interactiveshell import InteractiveShell\n",
        "InteractiveShell.ast_node_interactivity = \"all\""
      ]
    },
    {
      "cell_type": "markdown",
      "source": [
        "Consider following code to answer further questions:"
      ],
      "metadata": {
        "id": "0lIIj_etpeuG"
      }
    },
    {
      "cell_type": "code",
      "source": [
        "import pandas as pd\n",
        "\n",
        "course_name = ['Data Science', 'Machine Learning', 'Big Data', 'Data Engineer']\n",
        "duration = [2,3,6,4]\n",
        "df = pd.DataFrame(data = {'course_name' : course_name, 'duration' : duration})\n",
        "\n",
        "df"
      ],
      "metadata": {
        "colab": {
          "base_uri": "https://localhost:8080/",
          "height": 175
        },
        "id": "Lq3vvxCipVGf",
        "outputId": "85b4464d-60e7-4739-fa31-a9bcb3edb25f"
      },
      "execution_count": 5,
      "outputs": [
        {
          "output_type": "execute_result",
          "data": {
            "text/plain": [
              "        course_name  duration\n",
              "0      Data Science         2\n",
              "1  Machine Learning         3\n",
              "2          Big Data         6\n",
              "3     Data Engineer         4"
            ],
            "text/html": [
              "\n",
              "  <div id=\"df-696760dd-466d-46fa-91aa-34b60109fa48\">\n",
              "    <div class=\"colab-df-container\">\n",
              "      <div>\n",
              "<style scoped>\n",
              "    .dataframe tbody tr th:only-of-type {\n",
              "        vertical-align: middle;\n",
              "    }\n",
              "\n",
              "    .dataframe tbody tr th {\n",
              "        vertical-align: top;\n",
              "    }\n",
              "\n",
              "    .dataframe thead th {\n",
              "        text-align: right;\n",
              "    }\n",
              "</style>\n",
              "<table border=\"1\" class=\"dataframe\">\n",
              "  <thead>\n",
              "    <tr style=\"text-align: right;\">\n",
              "      <th></th>\n",
              "      <th>course_name</th>\n",
              "      <th>duration</th>\n",
              "    </tr>\n",
              "  </thead>\n",
              "  <tbody>\n",
              "    <tr>\n",
              "      <th>0</th>\n",
              "      <td>Data Science</td>\n",
              "      <td>2</td>\n",
              "    </tr>\n",
              "    <tr>\n",
              "      <th>1</th>\n",
              "      <td>Machine Learning</td>\n",
              "      <td>3</td>\n",
              "    </tr>\n",
              "    <tr>\n",
              "      <th>2</th>\n",
              "      <td>Big Data</td>\n",
              "      <td>6</td>\n",
              "    </tr>\n",
              "    <tr>\n",
              "      <th>3</th>\n",
              "      <td>Data Engineer</td>\n",
              "      <td>4</td>\n",
              "    </tr>\n",
              "  </tbody>\n",
              "</table>\n",
              "</div>\n",
              "      <button class=\"colab-df-convert\" onclick=\"convertToInteractive('df-696760dd-466d-46fa-91aa-34b60109fa48')\"\n",
              "              title=\"Convert this dataframe to an interactive table.\"\n",
              "              style=\"display:none;\">\n",
              "        \n",
              "  <svg xmlns=\"http://www.w3.org/2000/svg\" height=\"24px\"viewBox=\"0 0 24 24\"\n",
              "       width=\"24px\">\n",
              "    <path d=\"M0 0h24v24H0V0z\" fill=\"none\"/>\n",
              "    <path d=\"M18.56 5.44l.94 2.06.94-2.06 2.06-.94-2.06-.94-.94-2.06-.94 2.06-2.06.94zm-11 1L8.5 8.5l.94-2.06 2.06-.94-2.06-.94L8.5 2.5l-.94 2.06-2.06.94zm10 10l.94 2.06.94-2.06 2.06-.94-2.06-.94-.94-2.06-.94 2.06-2.06.94z\"/><path d=\"M17.41 7.96l-1.37-1.37c-.4-.4-.92-.59-1.43-.59-.52 0-1.04.2-1.43.59L10.3 9.45l-7.72 7.72c-.78.78-.78 2.05 0 2.83L4 21.41c.39.39.9.59 1.41.59.51 0 1.02-.2 1.41-.59l7.78-7.78 2.81-2.81c.8-.78.8-2.07 0-2.86zM5.41 20L4 18.59l7.72-7.72 1.47 1.35L5.41 20z\"/>\n",
              "  </svg>\n",
              "      </button>\n",
              "      \n",
              "  <style>\n",
              "    .colab-df-container {\n",
              "      display:flex;\n",
              "      flex-wrap:wrap;\n",
              "      gap: 12px;\n",
              "    }\n",
              "\n",
              "    .colab-df-convert {\n",
              "      background-color: #E8F0FE;\n",
              "      border: none;\n",
              "      border-radius: 50%;\n",
              "      cursor: pointer;\n",
              "      display: none;\n",
              "      fill: #1967D2;\n",
              "      height: 32px;\n",
              "      padding: 0 0 0 0;\n",
              "      width: 32px;\n",
              "    }\n",
              "\n",
              "    .colab-df-convert:hover {\n",
              "      background-color: #E2EBFA;\n",
              "      box-shadow: 0px 1px 2px rgba(60, 64, 67, 0.3), 0px 1px 3px 1px rgba(60, 64, 67, 0.15);\n",
              "      fill: #174EA6;\n",
              "    }\n",
              "\n",
              "    [theme=dark] .colab-df-convert {\n",
              "      background-color: #3B4455;\n",
              "      fill: #D2E3FC;\n",
              "    }\n",
              "\n",
              "    [theme=dark] .colab-df-convert:hover {\n",
              "      background-color: #434B5C;\n",
              "      box-shadow: 0px 1px 3px 1px rgba(0, 0, 0, 0.15);\n",
              "      filter: drop-shadow(0px 1px 2px rgba(0, 0, 0, 0.3));\n",
              "      fill: #FFFFFF;\n",
              "    }\n",
              "  </style>\n",
              "\n",
              "      <script>\n",
              "        const buttonEl =\n",
              "          document.querySelector('#df-696760dd-466d-46fa-91aa-34b60109fa48 button.colab-df-convert');\n",
              "        buttonEl.style.display =\n",
              "          google.colab.kernel.accessAllowed ? 'block' : 'none';\n",
              "\n",
              "        async function convertToInteractive(key) {\n",
              "          const element = document.querySelector('#df-696760dd-466d-46fa-91aa-34b60109fa48');\n",
              "          const dataTable =\n",
              "            await google.colab.kernel.invokeFunction('convertToInteractive',\n",
              "                                                     [key], {});\n",
              "          if (!dataTable) return;\n",
              "\n",
              "          const docLinkHtml = 'Like what you see? Visit the ' +\n",
              "            '<a target=\"_blank\" href=https://colab.research.google.com/notebooks/data_table.ipynb>data table notebook</a>'\n",
              "            + ' to learn more about interactive tables.';\n",
              "          element.innerHTML = '';\n",
              "          dataTable['output_type'] = 'display_data';\n",
              "          await google.colab.output.renderOutput(dataTable, element);\n",
              "          const docLink = document.createElement('div');\n",
              "          docLink.innerHTML = docLinkHtml;\n",
              "          element.appendChild(docLink);\n",
              "        }\n",
              "      </script>\n",
              "    </div>\n",
              "  </div>\n",
              "  "
            ]
          },
          "metadata": {},
          "execution_count": 5
        }
      ]
    },
    {
      "cell_type": "markdown",
      "source": [
        "Q1. Write a code to print the data present in the second row of the dataframe, df."
      ],
      "metadata": {
        "id": "l1Cjr0_dpxnr"
      }
    },
    {
      "cell_type": "code",
      "source": [
        "second_row = df.iloc[1]\n",
        "print(second_row)"
      ],
      "metadata": {
        "colab": {
          "base_uri": "https://localhost:8080/"
        },
        "id": "SXzlhf5SpkeG",
        "outputId": "d9be19fe-42d0-4305-e6fa-066f6b9982ea"
      },
      "execution_count": 4,
      "outputs": [
        {
          "output_type": "stream",
          "name": "stdout",
          "text": [
            "course_name    Machine Learning\n",
            "duration                      3\n",
            "Name: 1, dtype: object\n"
          ]
        }
      ]
    },
    {
      "cell_type": "markdown",
      "source": [
        "Q2. What is the difference between the functions loc and iloc in pandas.DataFrame?"
      ],
      "metadata": {
        "id": "A6yxrp64qCX6"
      }
    },
    {
      "cell_type": "markdown",
      "source": [
        "loc is label-based, while iloc is integer-based.\n",
        "loc uses row and column labels/names to access data, while iloc uses integer positions.\n",
        "When using loc, the end label is inclusive, but when using iloc, the end integer position is exclusive. For example, df.loc[1:3] will include rows with labels 1, 2, and 3, while df.iloc[1:3] will include rows with integer positions 1 and 2, but not 3.\n",
        "When using loc, you can pass boolean arrays to make conditional selections based on labels. However, with iloc, you can only use integer arrays or slices for conditional selections.\n",
        "In general, loc is used when you want to access data based on labels, and iloc is used when you want to access data based on integer positions."
      ],
      "metadata": {
        "id": "X6nv9ILiqrVo"
      }
    },
    {
      "cell_type": "code",
      "source": [
        "# Accessing a specific value using loc\n",
        "value = df.loc[1, 'duration']\n",
        "print(value)\n"
      ],
      "metadata": {
        "colab": {
          "base_uri": "https://localhost:8080/"
        },
        "id": "LtcqjO52p53N",
        "outputId": "f5dc99d2-c6b6-44e2-a7d9-5d94f5d5165d"
      },
      "execution_count": 6,
      "outputs": [
        {
          "output_type": "stream",
          "name": "stdout",
          "text": [
            "3\n"
          ]
        }
      ]
    },
    {
      "cell_type": "code",
      "source": [
        "# Accessing a specific value using iloc\n",
        "value = df.iloc[1, 1]\n",
        "print(value)\n"
      ],
      "metadata": {
        "colab": {
          "base_uri": "https://localhost:8080/"
        },
        "id": "QhYq1XM8qe_u",
        "outputId": "37508101-8c8a-4b4e-fb0a-030a86033e5d"
      },
      "execution_count": 7,
      "outputs": [
        {
          "output_type": "stream",
          "name": "stdout",
          "text": [
            "3\n"
          ]
        }
      ]
    },
    {
      "cell_type": "markdown",
      "source": [
        "Q3. Reindex the given dataframe using a variable, reindex = [3,0,1,2] and store it in the variable, new_df\n",
        "then find the output for both new_df.loc[2] and new_df.iloc[2].\n",
        "\n",
        "Did you observe any difference in both the outputs? If so then explain it."
      ],
      "metadata": {
        "id": "EfKIx41ZqttH"
      }
    },
    {
      "cell_type": "code",
      "source": [
        "import pandas as pd\n",
        "\n",
        "# Assuming df is already defined as per your previous code\n",
        "reindex = [3, 0, 1, 2]\n",
        "new_df = df.reindex(reindex)\n",
        "\n",
        "# Accessing data using loc and iloc on new_df\n",
        "value_loc = new_df.loc[2]\n",
        "value_iloc = new_df.iloc[2]\n",
        "\n",
        "print(\"Value using loc:\", value_loc)\n",
        "print(\"Value using iloc:\", value_iloc)\n"
      ],
      "metadata": {
        "colab": {
          "base_uri": "https://localhost:8080/"
        },
        "id": "lmxIvpL8ql9e",
        "outputId": "9c3b5be8-4083-4e5d-dab6-5d8eedea8eae"
      },
      "execution_count": 8,
      "outputs": [
        {
          "output_type": "stream",
          "name": "stdout",
          "text": [
            "Value using loc: course_name    Big Data\n",
            "duration              6\n",
            "Name: 2, dtype: object\n",
            "Value using iloc: course_name    Machine Learning\n",
            "duration                      3\n",
            "Name: 1, dtype: object\n"
          ]
        }
      ]
    },
    {
      "cell_type": "markdown",
      "source": [
        "Yes, there is a difference in the outputs obtained from new_df.loc[2] and new_df.iloc[2].\n",
        "\n",
        "In new_df.loc[2], the .loc indexer is label-based, so it looks for the row with label/index 2 in the DataFrame new_df. After reindexing, the label/index 2 corresponds to the third row in new_df. Therefore, new_df.loc[2] returns the row with the label/index 2, which is 'Big Data' with duration 6.\n",
        "\n",
        "On the other hand, in new_df.iloc[2], the .iloc indexer is integer-based, so it looks for the row with the integer position 2 in the DataFrame new_df. After reindexing, the row at integer position 2 corresponds to the second row in new_df. Therefore, new_df.iloc[2] returns the row with the integer position 2, which is 'Machine Learning' with duration 3.\n",
        "\n",
        "Hence, the difference in the outputs is due to the use of different indexing methods: label-based indexing with .loc and integer-based indexing with .iloc."
      ],
      "metadata": {
        "id": "rJ9i3VLrrYRP"
      }
    },
    {
      "cell_type": "markdown",
      "source": [
        "Consider the below code to answer further questions:\n"
      ],
      "metadata": {
        "id": "2aFFvh0gre6D"
      }
    },
    {
      "cell_type": "code",
      "source": [
        "import pandas as pd\n",
        "import numpy as np\n",
        "\n",
        "columns = ['column_1', 'column_2', 'column_3', 'column_4', 'column_5', 'column_6']\n",
        "indices = [1, 2, 3, 4, 5, 6]\n",
        "\n",
        "# Creating a DataFrame:\n",
        "df1 = pd.DataFrame(np.random.rand(6, 6), columns=columns, index=indices)\n",
        "\n",
        "df1"
      ],
      "metadata": {
        "colab": {
          "base_uri": "https://localhost:8080/",
          "height": 238
        },
        "id": "ej7Szkl6rMrJ",
        "outputId": "c6f67e36-6bbe-4d36-93e4-e973c7ffdaed"
      },
      "execution_count": 10,
      "outputs": [
        {
          "output_type": "execute_result",
          "data": {
            "text/plain": [
              "   column_1  column_2  column_3  column_4  column_5  column_6\n",
              "1  0.693399  0.467975  0.669004  0.306199  0.914994  0.721605\n",
              "2  0.258376  0.929524  0.937675  0.640898  0.378073  0.002646\n",
              "3  0.636897  0.132484  0.406448  0.810543  0.218459  0.523270\n",
              "4  0.491374  0.958144  0.913718  0.148641  0.081282  0.167708\n",
              "5  0.384639  0.283635  0.279235  0.193244  0.611218  0.948542\n",
              "6  0.746641  0.863070  0.797532  0.259486  0.257379  0.115311"
            ],
            "text/html": [
              "\n",
              "  <div id=\"df-5f286cee-dcd4-4a6f-864a-99ec60917826\">\n",
              "    <div class=\"colab-df-container\">\n",
              "      <div>\n",
              "<style scoped>\n",
              "    .dataframe tbody tr th:only-of-type {\n",
              "        vertical-align: middle;\n",
              "    }\n",
              "\n",
              "    .dataframe tbody tr th {\n",
              "        vertical-align: top;\n",
              "    }\n",
              "\n",
              "    .dataframe thead th {\n",
              "        text-align: right;\n",
              "    }\n",
              "</style>\n",
              "<table border=\"1\" class=\"dataframe\">\n",
              "  <thead>\n",
              "    <tr style=\"text-align: right;\">\n",
              "      <th></th>\n",
              "      <th>column_1</th>\n",
              "      <th>column_2</th>\n",
              "      <th>column_3</th>\n",
              "      <th>column_4</th>\n",
              "      <th>column_5</th>\n",
              "      <th>column_6</th>\n",
              "    </tr>\n",
              "  </thead>\n",
              "  <tbody>\n",
              "    <tr>\n",
              "      <th>1</th>\n",
              "      <td>0.693399</td>\n",
              "      <td>0.467975</td>\n",
              "      <td>0.669004</td>\n",
              "      <td>0.306199</td>\n",
              "      <td>0.914994</td>\n",
              "      <td>0.721605</td>\n",
              "    </tr>\n",
              "    <tr>\n",
              "      <th>2</th>\n",
              "      <td>0.258376</td>\n",
              "      <td>0.929524</td>\n",
              "      <td>0.937675</td>\n",
              "      <td>0.640898</td>\n",
              "      <td>0.378073</td>\n",
              "      <td>0.002646</td>\n",
              "    </tr>\n",
              "    <tr>\n",
              "      <th>3</th>\n",
              "      <td>0.636897</td>\n",
              "      <td>0.132484</td>\n",
              "      <td>0.406448</td>\n",
              "      <td>0.810543</td>\n",
              "      <td>0.218459</td>\n",
              "      <td>0.523270</td>\n",
              "    </tr>\n",
              "    <tr>\n",
              "      <th>4</th>\n",
              "      <td>0.491374</td>\n",
              "      <td>0.958144</td>\n",
              "      <td>0.913718</td>\n",
              "      <td>0.148641</td>\n",
              "      <td>0.081282</td>\n",
              "      <td>0.167708</td>\n",
              "    </tr>\n",
              "    <tr>\n",
              "      <th>5</th>\n",
              "      <td>0.384639</td>\n",
              "      <td>0.283635</td>\n",
              "      <td>0.279235</td>\n",
              "      <td>0.193244</td>\n",
              "      <td>0.611218</td>\n",
              "      <td>0.948542</td>\n",
              "    </tr>\n",
              "    <tr>\n",
              "      <th>6</th>\n",
              "      <td>0.746641</td>\n",
              "      <td>0.863070</td>\n",
              "      <td>0.797532</td>\n",
              "      <td>0.259486</td>\n",
              "      <td>0.257379</td>\n",
              "      <td>0.115311</td>\n",
              "    </tr>\n",
              "  </tbody>\n",
              "</table>\n",
              "</div>\n",
              "      <button class=\"colab-df-convert\" onclick=\"convertToInteractive('df-5f286cee-dcd4-4a6f-864a-99ec60917826')\"\n",
              "              title=\"Convert this dataframe to an interactive table.\"\n",
              "              style=\"display:none;\">\n",
              "        \n",
              "  <svg xmlns=\"http://www.w3.org/2000/svg\" height=\"24px\"viewBox=\"0 0 24 24\"\n",
              "       width=\"24px\">\n",
              "    <path d=\"M0 0h24v24H0V0z\" fill=\"none\"/>\n",
              "    <path d=\"M18.56 5.44l.94 2.06.94-2.06 2.06-.94-2.06-.94-.94-2.06-.94 2.06-2.06.94zm-11 1L8.5 8.5l.94-2.06 2.06-.94-2.06-.94L8.5 2.5l-.94 2.06-2.06.94zm10 10l.94 2.06.94-2.06 2.06-.94-2.06-.94-.94-2.06-.94 2.06-2.06.94z\"/><path d=\"M17.41 7.96l-1.37-1.37c-.4-.4-.92-.59-1.43-.59-.52 0-1.04.2-1.43.59L10.3 9.45l-7.72 7.72c-.78.78-.78 2.05 0 2.83L4 21.41c.39.39.9.59 1.41.59.51 0 1.02-.2 1.41-.59l7.78-7.78 2.81-2.81c.8-.78.8-2.07 0-2.86zM5.41 20L4 18.59l7.72-7.72 1.47 1.35L5.41 20z\"/>\n",
              "  </svg>\n",
              "      </button>\n",
              "      \n",
              "  <style>\n",
              "    .colab-df-container {\n",
              "      display:flex;\n",
              "      flex-wrap:wrap;\n",
              "      gap: 12px;\n",
              "    }\n",
              "\n",
              "    .colab-df-convert {\n",
              "      background-color: #E8F0FE;\n",
              "      border: none;\n",
              "      border-radius: 50%;\n",
              "      cursor: pointer;\n",
              "      display: none;\n",
              "      fill: #1967D2;\n",
              "      height: 32px;\n",
              "      padding: 0 0 0 0;\n",
              "      width: 32px;\n",
              "    }\n",
              "\n",
              "    .colab-df-convert:hover {\n",
              "      background-color: #E2EBFA;\n",
              "      box-shadow: 0px 1px 2px rgba(60, 64, 67, 0.3), 0px 1px 3px 1px rgba(60, 64, 67, 0.15);\n",
              "      fill: #174EA6;\n",
              "    }\n",
              "\n",
              "    [theme=dark] .colab-df-convert {\n",
              "      background-color: #3B4455;\n",
              "      fill: #D2E3FC;\n",
              "    }\n",
              "\n",
              "    [theme=dark] .colab-df-convert:hover {\n",
              "      background-color: #434B5C;\n",
              "      box-shadow: 0px 1px 3px 1px rgba(0, 0, 0, 0.15);\n",
              "      filter: drop-shadow(0px 1px 2px rgba(0, 0, 0, 0.3));\n",
              "      fill: #FFFFFF;\n",
              "    }\n",
              "  </style>\n",
              "\n",
              "      <script>\n",
              "        const buttonEl =\n",
              "          document.querySelector('#df-5f286cee-dcd4-4a6f-864a-99ec60917826 button.colab-df-convert');\n",
              "        buttonEl.style.display =\n",
              "          google.colab.kernel.accessAllowed ? 'block' : 'none';\n",
              "\n",
              "        async function convertToInteractive(key) {\n",
              "          const element = document.querySelector('#df-5f286cee-dcd4-4a6f-864a-99ec60917826');\n",
              "          const dataTable =\n",
              "            await google.colab.kernel.invokeFunction('convertToInteractive',\n",
              "                                                     [key], {});\n",
              "          if (!dataTable) return;\n",
              "\n",
              "          const docLinkHtml = 'Like what you see? Visit the ' +\n",
              "            '<a target=\"_blank\" href=https://colab.research.google.com/notebooks/data_table.ipynb>data table notebook</a>'\n",
              "            + ' to learn more about interactive tables.';\n",
              "          element.innerHTML = '';\n",
              "          dataTable['output_type'] = 'display_data';\n",
              "          await google.colab.output.renderOutput(dataTable, element);\n",
              "          const docLink = document.createElement('div');\n",
              "          docLink.innerHTML = docLinkHtml;\n",
              "          element.appendChild(docLink);\n",
              "        }\n",
              "      </script>\n",
              "    </div>\n",
              "  </div>\n",
              "  "
            ]
          },
          "metadata": {},
          "execution_count": 10
        }
      ]
    },
    {
      "cell_type": "markdown",
      "source": [
        "Q4. Write a code to find the following statistical measurements for the above dataframe df1:\n",
        "(i) mean of each and every column present in the dataframe.\n",
        "(ii) standard deviation of column, ‘column_2’"
      ],
      "metadata": {
        "id": "BPAZCz8zsBGp"
      }
    },
    {
      "cell_type": "code",
      "source": [
        "import pandas as pd\n",
        "\n",
        "# Assuming df1 is already defined as per your previous code\n",
        "\n",
        "# Mean of each column\n",
        "mean_values = df1.mean()\n",
        "print(\"Mean of each column:\")\n",
        "print(mean_values)\n",
        "print()\n",
        "\n",
        "# Standard deviation of column 'column_2'\n",
        "std_dev_column_2 = df1['column_2'].std()\n",
        "print(\"Standard deviation of 'column_2':\", std_dev_column_2)\n"
      ],
      "metadata": {
        "colab": {
          "base_uri": "https://localhost:8080/"
        },
        "id": "SwoD74EEr5bE",
        "outputId": "9e22af64-7e2c-486e-85ef-b4326195b27b"
      },
      "execution_count": 11,
      "outputs": [
        {
          "output_type": "stream",
          "name": "stdout",
          "text": [
            "Mean of each column:\n",
            "column_1    0.535221\n",
            "column_2    0.605805\n",
            "column_3    0.667269\n",
            "column_4    0.393168\n",
            "column_5    0.410234\n",
            "column_6    0.413180\n",
            "dtype: float64\n",
            "\n",
            "Standard deviation of 'column_2': 0.35831437834925806\n"
          ]
        }
      ]
    },
    {
      "cell_type": "markdown",
      "source": [
        "Q5. Replace the data present in the second row of column, ‘column_2’ by a string variable then find the\n",
        "mean of column, column_2.\n",
        "If you are getting errors in executing it then explain why.\n",
        "[Hint: To replace the data use df1.loc[] and equate this to string data of your choice.]"
      ],
      "metadata": {
        "id": "nSlWAZ_7sIcq"
      }
    },
    {
      "cell_type": "code",
      "source": [
        "import pandas as pd\n",
        "\n",
        "# Assuming df1 is already defined as per your previous code\n",
        "\n",
        "# Replace data in the second row of 'column_2' with a string variable\n",
        "df1.loc[2, 'column_2'] = 'replacement_string'\n",
        "\n",
        "# Convert 'column_2' to numeric data type\n",
        "df1['column_2'] = pd.to_numeric(df1['column_2'], errors='coerce')\n",
        "\n",
        "# Find the mean of 'column_2'\n",
        "mean_column_2 = df1['column_2'].mean()\n",
        "print(\"Mean of 'column_2':\", mean_column_2)\n"
      ],
      "metadata": {
        "colab": {
          "base_uri": "https://localhost:8080/"
        },
        "id": "nOUtapbEsDVP",
        "outputId": "5ac596f7-9ae4-4ca7-b764-97307474186a"
      },
      "execution_count": 13,
      "outputs": [
        {
          "output_type": "stream",
          "name": "stdout",
          "text": [
            "Mean of 'column_2': 0.5410615448183679\n"
          ]
        }
      ]
    },
    {
      "cell_type": "markdown",
      "source": [
        "Q6. What do you understand about the windows function in pandas and list the types of windows\n",
        "functions?"
      ],
      "metadata": {
        "id": "9bpyM6Uqsj6K"
      }
    },
    {
      "cell_type": "markdown",
      "source": [
        "In pandas, the window functions allow you to perform calculations on a specific window or subset of data within a DataFrame or Series. These functions operate on a rolling or expanding window of data, which can be defined by a fixed number of preceding or following rows or by a time-based window.\n",
        "\n",
        "There are several types of window functions available in pandas:\n",
        "\n",
        "1. Rolling Window Functions: These functions operate on a fixed-size window that moves along the data. The window can be defined by the number of preceding or following rows. Some commonly used rolling window functions include:\n",
        "   - `rolling()`: Provides access to the rolling window functionality, allowing calculations such as mean, sum, min, max, etc.\n",
        "   - `rolling().mean()`: Calculates the rolling mean of the data.\n",
        "   - `rolling().sum()`: Calculates the rolling sum of the data.\n",
        "   - `rolling().min()`: Calculates the rolling minimum of the data.\n",
        "   - `rolling().max()`: Calculates the rolling maximum of the data.\n",
        "   - `rolling().std()`: Calculates the rolling standard deviation of the data.\n",
        "\n",
        "2. Expanding Window Functions: These functions operate on the entire history of the data up to the current row. The size of the window increases with each row. Some commonly used expanding window functions include:\n",
        "   - `expanding()`: Provides access to the expanding window functionality, allowing calculations such as mean, sum, min, max, etc.\n",
        "   - `expanding().mean()`: Calculates the expanding mean of the data.\n",
        "   - `expanding().sum()`: Calculates the expanding sum of the data.\n",
        "   - `expanding().min()`: Calculates the expanding minimum of the data.\n",
        "   - `expanding().max()`: Calculates the expanding maximum of the data.\n",
        "   - `expanding().std()`: Calculates the expanding standard deviation of the data.\n",
        "\n",
        "3. Rolling Time Window Functions: These functions operate on a window defined by a time-based offset. They are useful when working with time-series data. Some commonly used rolling time window functions include:\n",
        "   - `rolling(window=, min_periods=).mean()`: Calculates the rolling mean of the data over a time window.\n",
        "   - `rolling(window=, min_periods=).sum()`: Calculates the rolling sum of the data over a time window.\n",
        "   - `rolling(window=, min_periods=).min()`: Calculates the rolling minimum of the data over a time window.\n",
        "   - `rolling(window=, min_periods=).max()`: Calculates the rolling maximum of the data over a time window.\n",
        "   - `rolling(window=, min_periods=).std()`: Calculates the rolling standard deviation of the data over a time window.\n",
        "\n",
        "These window functions allow you to perform calculations and analysis on rolling or expanding subsets of data, which can be useful for tasks such as trend analysis, moving averages, and time-series analysis."
      ],
      "metadata": {
        "id": "Pj4Lcpnwsqwt"
      }
    },
    {
      "cell_type": "markdown",
      "source": [
        "Q7. Write a code to print only the current month and year at the time of answering this question.\n",
        "[Hint: Use pandas.datetime function]"
      ],
      "metadata": {
        "id": "pjOy8ls0sw7L"
      }
    },
    {
      "cell_type": "code",
      "source": [
        "import pandas as pd\n",
        "\n",
        "# Get the current date and time\n",
        "current_date = pd.Timestamp.now()\n",
        "\n",
        "# Extract the month and year\n",
        "current_month = current_date.month\n",
        "current_year = current_date.year\n",
        "\n",
        "# Print the current month and year\n",
        "print(\"Current month:\", current_month)\n",
        "print(\"Current year:\", current_year)\n"
      ],
      "metadata": {
        "colab": {
          "base_uri": "https://localhost:8080/"
        },
        "id": "bNzPtBCkspJs",
        "outputId": "2a9fecc1-34a9-4dc0-9966-4ce9c4b9d56f"
      },
      "execution_count": 15,
      "outputs": [
        {
          "output_type": "stream",
          "name": "stdout",
          "text": [
            "Current month: 7\n",
            "Current year: 2023\n"
          ]
        }
      ]
    },
    {
      "cell_type": "markdown",
      "source": [
        "Q8. Write a Python program that takes in two dates as input (in the format YYYY-MM-DD) and\n",
        "calculates the difference between them in days, hours, and minutes using Pandas time delta. The\n",
        "program should prompt the user to enter the dates and display the result."
      ],
      "metadata": {
        "id": "yN23yTbltBfK"
      }
    },
    {
      "cell_type": "code",
      "source": [
        "import pandas as pd\n",
        "\n",
        "# Define the first date\n",
        "date1 = '2022-01-01'\n",
        "\n",
        "# Define the second date\n",
        "date2 = '2023-07-01'\n",
        "\n",
        "# Convert the dates to Pandas Timestamp objects\n",
        "date1 = pd.Timestamp(date1)\n",
        "date2 = pd.Timestamp(date2)\n",
        "\n",
        "# Calculate the time difference between the two dates\n",
        "time_diff = date2 - date1\n",
        "\n",
        "# Extract the number of days, hours, and minutes from the time difference\n",
        "days = time_diff.days\n",
        "hours = time_diff.seconds // 3600\n",
        "minutes = (time_diff.seconds % 3600) // 60\n",
        "\n",
        "# Display the result\n",
        "print(\"Time difference:\")\n",
        "print(f\"Days: {days}\")\n",
        "print(f\"Hours: {hours}\")\n",
        "print(f\"Minutes: {minutes}\")\n"
      ],
      "metadata": {
        "colab": {
          "base_uri": "https://localhost:8080/"
        },
        "id": "7UYz54Qrs0sK",
        "outputId": "7e5522f8-9ce0-4186-d74c-32c717aec0af"
      },
      "execution_count": 16,
      "outputs": [
        {
          "output_type": "stream",
          "name": "stdout",
          "text": [
            "Time difference:\n",
            "Days: 546\n",
            "Hours: 0\n",
            "Minutes: 0\n"
          ]
        }
      ]
    },
    {
      "cell_type": "markdown",
      "source": [
        "Q9. Write a Python program that reads a CSV file containing categorical data and converts a specified\n",
        "column to a categorical data type. The program should prompt the user to enter the file path, column\n",
        "name, and category order, and then display the sorted data."
      ],
      "metadata": {
        "id": "K9ApOWpNtGlZ"
      }
    },
    {
      "cell_type": "code",
      "source": [
        "import pandas as pd\n",
        "\n",
        "# Prompt the user to enter the file path\n",
        "file_path = input(\"Enter the CSV file path: \")\n",
        "\n",
        "# Prompt the user to enter the column name\n",
        "column_name = input(\"Enter the column name to convert to categorical: \")\n",
        "\n",
        "# Prompt the user to enter the category order\n",
        "category_order = input(\"Enter the category order (comma-separated values): \").split(',')\n",
        "\n",
        "# Read the CSV file into a DataFrame\n",
        "df = pd.read_csv(file_path)\n",
        "\n",
        "# Convert the specified column to categorical\n",
        "df[column_name] = pd.Categorical(df[column_name], categories=category_order, ordered=True)\n",
        "\n",
        "# Sort the DataFrame based on the specified column\n",
        "df_sorted = df.sort_values(column_name)\n",
        "\n",
        "# Display the sorted data\n",
        "print(\"Sorted Data:\")\n",
        "print(df_sorted)\n"
      ],
      "metadata": {
        "colab": {
          "base_uri": "https://localhost:8080/"
        },
        "id": "Mxhh2MOQtuNm",
        "outputId": "1247fd69-ba96-4dd8-bee0-e06ba7f6ed44"
      },
      "execution_count": 19,
      "outputs": [
        {
          "output_type": "stream",
          "name": "stdout",
          "text": [
            "Enter the CSV file path: /content/sample.csv\n",
            "Enter the column name to convert to categorical: Grade\n",
            "Enter the category order (comma-separated values): A,B,C\n",
            "Sorted Data:\n",
            "     Name      City Grade\n",
            "0   Alice  New York     A\n",
            "4     Eva    Sydney     A\n",
            "1     Bob    London     B\n",
            "3   David     Tokyo     B\n",
            "2  Claire     Paris     C\n"
          ]
        }
      ]
    },
    {
      "cell_type": "markdown",
      "source": [
        "Q10. Write a Python program that reads a CSV file containing sales data for different products and\n",
        "visualizes the data using a stacked bar chart to show the sales of each product category over time. The\n",
        "program should prompt the user to enter the file path and display the chart."
      ],
      "metadata": {
        "id": "xFT4_gnGu3s5"
      }
    },
    {
      "cell_type": "code",
      "source": [
        "import pandas as pd\n",
        "import matplotlib.pyplot as plt\n",
        "\n",
        "# Prompt the user to enter the file path\n",
        "file_path = input(\"Enter the CSV file path: \")\n",
        "\n",
        "# Read the CSV file into a DataFrame\n",
        "df = pd.read_csv(file_path)\n",
        "\n",
        "# Group the data by product category and date, and calculate the sum of sales\n",
        "grouped_df = df.groupby(['Product Category', 'Date'])['Sales'].sum().unstack()\n",
        "\n",
        "# Plot a stacked bar chart\n",
        "grouped_df.plot(kind='bar', stacked=True)\n",
        "\n",
        "# Customize the chart\n",
        "plt.xlabel('Date')\n",
        "plt.ylabel('Sales')\n",
        "plt.title('Sales by Product Category over Time')\n",
        "plt.legend(loc='upper left')\n",
        "\n",
        "# Display the chart\n",
        "plt.show()\n"
      ],
      "metadata": {
        "colab": {
          "base_uri": "https://localhost:8080/",
          "height": 587
        },
        "id": "-8Fo1lDJvPde",
        "outputId": "c717562b-d3ea-43c0-d9b1-8ec2e870d259"
      },
      "execution_count": 25,
      "outputs": [
        {
          "name": "stdout",
          "output_type": "stream",
          "text": [
            "Enter the CSV file path: /content/sample_2.csv\n"
          ]
        },
        {
          "output_type": "execute_result",
          "data": {
            "text/plain": [
              "<Axes: xlabel='Product Category'>"
            ]
          },
          "metadata": {},
          "execution_count": 25
        },
        {
          "output_type": "execute_result",
          "data": {
            "text/plain": [
              "Text(0.5, 0, 'Date')"
            ]
          },
          "metadata": {},
          "execution_count": 25
        },
        {
          "output_type": "execute_result",
          "data": {
            "text/plain": [
              "Text(0, 0.5, 'Sales')"
            ]
          },
          "metadata": {},
          "execution_count": 25
        },
        {
          "output_type": "execute_result",
          "data": {
            "text/plain": [
              "Text(0.5, 1.0, 'Sales by Product Category over Time')"
            ]
          },
          "metadata": {},
          "execution_count": 25
        },
        {
          "output_type": "execute_result",
          "data": {
            "text/plain": [
              "<matplotlib.legend.Legend at 0x7f1004615240>"
            ]
          },
          "metadata": {},
          "execution_count": 25
        },
        {
          "output_type": "display_data",
          "data": {
            "text/plain": [
              "<Figure size 640x480 with 1 Axes>"
            ],
            "image/png": "[encoded data removed]"
          },
          "metadata": {}
        }
      ]
    },
    {
      "cell_type": "markdown",
      "source": [
        "Q11. You are given a CSV file containing student data that includes the student ID and their test score.\n",
        "\n",
        "Write a Python program that reads the CSV file, calculates the mean, median, and mode of the test scores, and\n",
        "displays the results in a table.\n",
        "\n",
        "The program should calculate the mean, median, and mode of the test scores and display the results\n",
        "in a table."
      ],
      "metadata": {
        "id": "RYWWcjuXws6G"
      }
    },
    {
      "cell_type": "code",
      "source": [
        "import pandas as pd\n",
        "\n",
        "# Prompt the user to enter the file path\n",
        "file_path = input(\"Enter the file path of the CSV file containing the student data: \")\n",
        "\n",
        "# Read the CSV file into a DataFrame\n",
        "df = pd.read_csv(file_path)\n",
        "\n",
        "# Calculate the mean, median, and mode of the test scores\n",
        "mean_score = df['Test Score'].mean()\n",
        "median_score = df['Test Score'].median()\n",
        "mode_scores = df['Test Score'].mode()\n",
        "\n",
        "# Create a table to display the results\n",
        "table = pd.DataFrame({\n",
        "    'Statistic': ['Mean', 'Median', 'Mode'],\n",
        "    'Value': [mean_score, median_score, ', '.join(map(str, mode_scores))]\n",
        "})\n",
        "\n",
        "# Display the table\n",
        "print(table)\n"
      ],
      "metadata": {
        "colab": {
          "base_uri": "https://localhost:8080/"
        },
        "id": "rEdDDlgswbQW",
        "outputId": "977f3414-21f9-489b-f93b-3dd71715e470"
      },
      "execution_count": 28,
      "outputs": [
        {
          "output_type": "stream",
          "name": "stdout",
          "text": [
            "Enter the file path of the CSV file containing the student data: /content/student_data.csv\n",
            "  Statistic Value\n",
            "0      Mean  83.5\n",
            "1    Median  85.0\n",
            "2      Mode    85\n"
          ]
        }
      ]
    },
    {
      "cell_type": "code",
      "source": [],
      "metadata": {
        "id": "WJSZBao6wiUn"
      },
      "execution_count": null,
      "outputs": []
    }
  ]
}